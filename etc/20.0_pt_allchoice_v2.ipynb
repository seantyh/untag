{
 "cells": [
  {
   "cell_type": "markdown",
   "id": "6989b187",
   "metadata": {},
   "source": [
    "## Loading Dataset "
   ]
  },
  {
   "cell_type": "code",
   "execution_count": 1,
   "id": "9be03755",
   "metadata": {},
   "outputs": [],
   "source": [
    "# Server Paths \n",
    "# ..data/avo727/PromptTuning/CWNdata/Sean_PT2_encoded_dataset\n",
    "maindir = \"/mnt/md0/data/avo727/PromptTuning\"\n",
    "datadir = f\"{maindir}/CWN_data\"\n",
    "preddir = f\"{maindir}/model_predictions\"\n",
    "datasetdir= f\"{maindir}/CWNdata/PT2_allchoice_encoded_dataset\""
   ]
  },
  {
   "cell_type": "code",
   "execution_count": 2,
   "id": "4a1fc8d2",
   "metadata": {},
   "outputs": [],
   "source": [
    "import pickle\n",
    "from datasets import Dataset, load_metric\n",
    "import datasets\n",
    "from transformers import AutoModelForMultipleChoice, BertTokenizerFast\n",
    "import random\n",
    "import torch\n",
    "import numpy as np\n",
    "encoded_dataset = datasets.load_from_disk(datasetdir)"
   ]
  },
  {
   "cell_type": "code",
   "execution_count": 3,
   "id": "6317182d",
   "metadata": {},
   "outputs": [
    {
     "data": {
      "text/plain": [
       "123"
      ]
     },
     "execution_count": 3,
     "metadata": {},
     "output_type": "execute_result"
    }
   ],
   "source": [
    "len(encoded_dataset['test']['numchoices'])"
   ]
  },
  {
   "cell_type": "markdown",
   "id": "05f595b9",
   "metadata": {},
   "source": [
    "## Data Collator "
   ]
  },
  {
   "cell_type": "code",
   "execution_count": 4,
   "id": "4e38121c",
   "metadata": {},
   "outputs": [],
   "source": [
    "base_model = 'bert-base-chinese'\n",
    "tokenizer = BertTokenizerFast.from_pretrained(base_model)"
   ]
  },
  {
   "cell_type": "code",
   "execution_count": 5,
   "id": "b5314ce4",
   "metadata": {},
   "outputs": [],
   "source": [
    "from dataclasses import dataclass\n",
    "@dataclass\n",
    "class DataCollatorForMultipleChoice:\n",
    "    \"\"\"\n",
    "    Data collator that will dynamically pad the inputs for multiple choice received.\n",
    "    allchoice version: 全數攤平送往model內部處理（不經unflatten，確保傳輸numchoices）\n",
    "    \"\"\"\n",
    "    tokenizer = tokenizer\n",
    "    padding, trunc = True, True\n",
    "    max_length =  None\n",
    "    pad_to_multiple_of = None\n",
    "    \n",
    "    def __call__(self, features):\n",
    "        label_name = \"label\" if \"label\" in features[0].keys() else \"labels\"\n",
    "        pin_label = True if \"label\" in features[0].keys() else False\n",
    "        accepted_keys = [\"input_ids\", \"attention_mask\", \"label\", \n",
    "                         \"token_type_ids\", 'class_selector', 'numchoices']\n",
    "        batch_size = len(features)\n",
    "        labels = [feature.pop(label_name) for feature in features]\n",
    "        numchoices = [feature.pop('numchoices') for feature in features]\n",
    "        seq_classes = [feature.pop('class_selector') for feature in features]\n",
    "        \n",
    "        flattened_features = [[{k: v[i] for k, v in feature.items() if k in accepted_keys} \n",
    "                               for i in range(nc)] for feature, nc in zip(features, numchoices)]\n",
    "        flattened_features = sum(flattened_features, [])\n",
    "        batch = self.tokenizer.pad(\n",
    "            flattened_features,\n",
    "            padding= \"longest\",\n",
    "            max_length= self.max_length,\n",
    "            pad_to_multiple_of=self.pad_to_multiple_of,\n",
    "            return_tensors=\"pt\",\n",
    "        )\n",
    "        # processing labels: \n",
    "        proclabels = []\n",
    "        for l, nc in zip(labels, numchoices):\n",
    "            label = [0]*nc\n",
    "            label[l] = 1\n",
    "            proclabels.extend(label)\n",
    "        batch = {k: v for k, v in batch.items() if k in accepted_keys}\n",
    "        assert len(proclabels) ==  len(batch['input_ids'])\n",
    "        # print(len(batch['input_ids'])) # print(sum([len(x) for x in seq_classes])) # should match \n",
    "        # flattening list of lists\n",
    "        batch[\"class_selector\"] = torch.tensor(sum(seq_classes, [])) \n",
    "        batch[\"labels\"] = torch.tensor(proclabels, dtype=torch.int64)\n",
    "        batch[\"numchoices\"] = torch.tensor(numchoices, dtype=torch.int64)\n",
    "        # all flattened into instances (instead of problems)\n",
    "        return batch"
   ]
  },
  {
   "cell_type": "markdown",
   "id": "e5542549",
   "metadata": {},
   "source": [
    "## Compute Metrics"
   ]
  },
  {
   "cell_type": "code",
   "execution_count": 6,
   "id": "a4b99676",
   "metadata": {},
   "outputs": [],
   "source": [
    "# ( predictions: typing.Union[numpy.ndarray, typing.Tuple[numpy.ndarray]]\n",
    "# label_ids: typing.Union[numpy.ndarray, typing.Tuple[numpy.ndarray]] )\n",
    "class ComputeMetrics:\n",
    "    from datasets import Dataset, load_metric\n",
    "    datasetdir= f\"{maindir}/CWNdata/PT2_allchoice_encoded_dataset\"\n",
    "    encoded_dataset = datasets.load_from_disk(datasetdir)\n",
    "    numchoices = encoded_dataset['test']['numchoices']\n",
    "    def __call__(self, logits, labels):\n",
    "        # eval_batch_size = len(encoded_dataset['test'])\n",
    "        # 題號，labels(還原)，預測label \n",
    "        from collections import defaultdict \n",
    "        mapping, label_mapping, prediction_mapping = defaultdict(list),defaultdict(list), defaultdict(list)\n",
    "        curstart = 0\n",
    "        accu = defaultdict(int)\n",
    "        accdict = {}\n",
    "        for exid, nc in enumerate(self.numchoices):\n",
    "            label_id = labels[exid]\n",
    "            pred_id = np.argmax([logits[i] for i in range(curstart, curstart+nc)])\n",
    "            mapping[nc].append(exid) \n",
    "            label_mapping[nc].append(label_id)\n",
    "            prediction_mapping[nc].append(pred_id)\n",
    "            if label_id == pred_id: \n",
    "                accu[nc] += 1\n",
    "            # update \n",
    "            curstart = curstart+nc\n",
    "        cnt_numchoices = len(mapping) # 2\n",
    "        # print(f'* There are {cnt_numchoices} numchoices in the dataset.')\n",
    "        # return {'accuracy': (preds == label_ids).astype(np.float32).mean().item()}\n",
    "        for nc, nctotal in mapping.items():\n",
    "            accurates = accu[nc]\n",
    "            accdict[nc] = (accurates/len(nctotal))\n",
    "        accurates = sum(accu.values())\n",
    "        return accurates/len(self.numchoices), accdict"
   ]
  },
  {
   "cell_type": "code",
   "execution_count": 7,
   "id": "65e05b1b",
   "metadata": {},
   "outputs": [
    {
     "data": {
      "text/plain": [
       "2"
      ]
     },
     "execution_count": 7,
     "metadata": {},
     "output_type": "execute_result"
    }
   ],
   "source": [
    "import numpy as np \n",
    "labels = [0,0,1]\n",
    "np.argmax([labels[i] for i in range(0, 3)])"
   ]
  },
  {
   "cell_type": "code",
   "execution_count": 8,
   "id": "0db74dc9",
   "metadata": {},
   "outputs": [
    {
     "data": {
      "text/plain": [
       "tensor([0.5000, 0.2000, 0.3000, 0.4000, 0.1000, 0.5000])"
      ]
     },
     "execution_count": 8,
     "metadata": {},
     "output_type": "execute_result"
    }
   ],
   "source": [
    "logits = torch.tensor([0.5,0.2,0.3, 0.4,0.1, 0.5])\n",
    "logits"
   ]
  },
  {
   "cell_type": "code",
   "execution_count": 9,
   "id": "9a34ad6a",
   "metadata": {},
   "outputs": [
    {
     "data": {
      "text/plain": [
       "0"
      ]
     },
     "execution_count": 9,
     "metadata": {},
     "output_type": "execute_result"
    }
   ],
   "source": [
    "pred_id = np.argmax([logits[i] for i in range(0, 3)])\n",
    "pred_id "
   ]
  },
  {
   "cell_type": "code",
   "execution_count": 10,
   "id": "d4fc52c6",
   "metadata": {},
   "outputs": [
    {
     "data": {
      "text/plain": [
       "4"
      ]
     },
     "execution_count": 10,
     "metadata": {},
     "output_type": "execute_result"
    }
   ],
   "source": [
    "x = {'2':1, '3':3}\n",
    "sum(x.values())"
   ]
  },
  {
   "cell_type": "code",
   "execution_count": 11,
   "id": "05603498",
   "metadata": {},
   "outputs": [
    {
     "name": "stdout",
     "output_type": "stream",
     "text": [
      "5.000\n"
     ]
    }
   ],
   "source": [
    "print(f'{5:.3f}')"
   ]
  },
  {
   "cell_type": "markdown",
   "id": "9542f6b1",
   "metadata": {},
   "source": [
    "## 🍀 Manual Training Loop "
   ]
  },
  {
   "cell_type": "code",
   "execution_count": 12,
   "id": "2d68e66f",
   "metadata": {},
   "outputs": [],
   "source": [
    "# class SchedulerType(ExplicitEnum):\n",
    "#     LINEAR = \"linear\"\n",
    "#     COSINE = \"cosine\"\n",
    "#     COSINE_WITH_RESTARTS = \"cosine_with_restarts\"\n",
    "#     POLYNOMIAL = \"polynomial\"\n",
    "#     CONSTANT = \"constant\"\n",
    "#     CONSTANT_WITH_WARMUP = \"constant_with_warmup\""
   ]
  },
  {
   "cell_type": "code",
   "execution_count": 13,
   "id": "f3ba895d",
   "metadata": {},
   "outputs": [],
   "source": [
    "### hyperparams\n",
    "base_model = 'bert-base-chinese'\n",
    "batchsize = 12\n",
    "prompt_len = n_tokens = 12\n",
    "lr = 5e-4 # 5e-4\n",
    "scheduler_type = \"linear\"\n",
    "wd = 0.005 # best 0.005\n",
    "warmup_ratio = 0.1\n",
    "max_grad_norm = 1 # pytorch trainer default \n",
    "myseed = 1126   # best 1126\n",
    "epochs = 20     # best 20\n",
    "# accumulation_steps = 1 # pytorch trainer default \n",
    "###### task-specific stats ##### \n",
    "nclass = 19\n",
    "TESTSIZE = 0.2"
   ]
  },
  {
   "cell_type": "code",
   "execution_count": 14,
   "id": "490925e6",
   "metadata": {},
   "outputs": [],
   "source": [
    "import torch\n",
    "import torch.nn\n",
    "import torch.nn.functional as F\n",
    "from torch.nn import CrossEntropyLoss\n",
    "from transformers import BertModel, BertPreTrainedModel\n",
    "from transformers.modeling_outputs import MultipleChoiceModelOutput"
   ]
  },
  {
   "cell_type": "code",
   "execution_count": 15,
   "id": "34f4d346",
   "metadata": {},
   "outputs": [],
   "source": [
    "%reload_ext autoreload\n",
    "%autoreload 2"
   ]
  },
  {
   "cell_type": "code",
   "execution_count": 16,
   "id": "0d6282b1",
   "metadata": {},
   "outputs": [
    {
     "name": "stderr",
     "output_type": "stream",
     "text": [
      "Some weights of the model checkpoint at bert-base-chinese were not used when initializing BertPromptForMultipleChoice: ['cls.predictions.transform.dense.bias', 'cls.predictions.transform.dense.weight', 'cls.predictions.decoder.weight', 'cls.seq_relationship.weight', 'cls.seq_relationship.bias', 'cls.predictions.transform.LayerNorm.weight', 'cls.predictions.transform.LayerNorm.bias', 'cls.predictions.bias']\n",
      "- This IS expected if you are initializing BertPromptForMultipleChoice from the checkpoint of a model trained on another task or with another architecture (e.g. initializing a BertForSequenceClassification model from a BertForPreTraining model).\n",
      "- This IS NOT expected if you are initializing BertPromptForMultipleChoice from the checkpoint of a model that you expect to be exactly identical (initializing a BertForSequenceClassification model from a BertForSequenceClassification model).\n",
      "Some weights of BertPromptForMultipleChoice were not initialized from the model checkpoint at bert-base-chinese and are newly initialized: ['prefix_encoder.weight', 'embeddings.token_type_embeddings.weight', 'classifier.weight', 'embeddings.LayerNorm.bias', 'embeddings.word_embeddings.weight', 'embeddings.LayerNorm.weight', 'embeddings.position_embeddings.weight', 'classifier.bias']\n",
      "You should probably TRAIN this model on a down-stream task to be able to use it for predictions and inference.\n"
     ]
    },
    {
     "name": "stdout",
     "output_type": "stream",
     "text": [
      "** total param is 175873\n",
      "** train bert? False\n"
     ]
    }
   ],
   "source": [
    "from PromptTuningBERT_allchoice_v2 import BertPromptForMultipleChoice\n",
    "config = {\n",
    "    'n_tokens': prompt_len ,\n",
    "    'n_class': nclass,\n",
    "    'train_bert': False,\n",
    "    'to_debug': False,\n",
    "    'device': 'cuda'\n",
    "}\n",
    "model = BertPromptForMultipleChoice.from_pretrained(base_model, config)"
   ]
  },
  {
   "cell_type": "code",
   "execution_count": 17,
   "id": "7444fb42",
   "metadata": {},
   "outputs": [],
   "source": [
    "'''seeding'''\n",
    "import torch.optim as optim\n",
    "from transformers import set_seed, get_scheduler\n",
    "def set_seeds(seed):\n",
    "    torch.manual_seed(seed)\n",
    "    if torch.cuda.is_available():\n",
    "        torch.cuda.manual_seed(seed)\n",
    "        torch.cuda.manual_seed_all(seed)\n",
    "    np.random.seed(seed)\n",
    "    random.seed(seed)\n",
    "    torch.backends.cudnn.benchmark = False\n",
    "    torch.backends.cudnn.deterministic = True  \n",
    "set_seeds(myseed)\n",
    "set_seed(myseed)"
   ]
  },
  {
   "cell_type": "code",
   "execution_count": 18,
   "id": "2b0e5208",
   "metadata": {},
   "outputs": [
    {
     "data": {
      "text/plain": [
       "BertPromptForMultipleChoice(\n",
       "  (bert): BertModel(\n",
       "    (embeddings): BertEmbeddings(\n",
       "      (word_embeddings): Embedding(21128, 768, padding_idx=0)\n",
       "      (position_embeddings): Embedding(512, 768)\n",
       "      (token_type_embeddings): Embedding(2, 768)\n",
       "      (LayerNorm): LayerNorm((768,), eps=1e-12, elementwise_affine=True)\n",
       "      (dropout): Dropout(p=0.1, inplace=False)\n",
       "    )\n",
       "    (encoder): BertEncoder(\n",
       "      (layer): ModuleList(\n",
       "        (0): BertLayer(\n",
       "          (attention): BertAttention(\n",
       "            (self): BertSelfAttention(\n",
       "              (query): Linear(in_features=768, out_features=768, bias=True)\n",
       "              (key): Linear(in_features=768, out_features=768, bias=True)\n",
       "              (value): Linear(in_features=768, out_features=768, bias=True)\n",
       "              (dropout): Dropout(p=0.1, inplace=False)\n",
       "            )\n",
       "            (output): BertSelfOutput(\n",
       "              (dense): Linear(in_features=768, out_features=768, bias=True)\n",
       "              (LayerNorm): LayerNorm((768,), eps=1e-12, elementwise_affine=True)\n",
       "              (dropout): Dropout(p=0.1, inplace=False)\n",
       "            )\n",
       "          )\n",
       "          (intermediate): BertIntermediate(\n",
       "            (dense): Linear(in_features=768, out_features=3072, bias=True)\n",
       "          )\n",
       "          (output): BertOutput(\n",
       "            (dense): Linear(in_features=3072, out_features=768, bias=True)\n",
       "            (LayerNorm): LayerNorm((768,), eps=1e-12, elementwise_affine=True)\n",
       "            (dropout): Dropout(p=0.1, inplace=False)\n",
       "          )\n",
       "        )\n",
       "        (1): BertLayer(\n",
       "          (attention): BertAttention(\n",
       "            (self): BertSelfAttention(\n",
       "              (query): Linear(in_features=768, out_features=768, bias=True)\n",
       "              (key): Linear(in_features=768, out_features=768, bias=True)\n",
       "              (value): Linear(in_features=768, out_features=768, bias=True)\n",
       "              (dropout): Dropout(p=0.1, inplace=False)\n",
       "            )\n",
       "            (output): BertSelfOutput(\n",
       "              (dense): Linear(in_features=768, out_features=768, bias=True)\n",
       "              (LayerNorm): LayerNorm((768,), eps=1e-12, elementwise_affine=True)\n",
       "              (dropout): Dropout(p=0.1, inplace=False)\n",
       "            )\n",
       "          )\n",
       "          (intermediate): BertIntermediate(\n",
       "            (dense): Linear(in_features=768, out_features=3072, bias=True)\n",
       "          )\n",
       "          (output): BertOutput(\n",
       "            (dense): Linear(in_features=3072, out_features=768, bias=True)\n",
       "            (LayerNorm): LayerNorm((768,), eps=1e-12, elementwise_affine=True)\n",
       "            (dropout): Dropout(p=0.1, inplace=False)\n",
       "          )\n",
       "        )\n",
       "        (2): BertLayer(\n",
       "          (attention): BertAttention(\n",
       "            (self): BertSelfAttention(\n",
       "              (query): Linear(in_features=768, out_features=768, bias=True)\n",
       "              (key): Linear(in_features=768, out_features=768, bias=True)\n",
       "              (value): Linear(in_features=768, out_features=768, bias=True)\n",
       "              (dropout): Dropout(p=0.1, inplace=False)\n",
       "            )\n",
       "            (output): BertSelfOutput(\n",
       "              (dense): Linear(in_features=768, out_features=768, bias=True)\n",
       "              (LayerNorm): LayerNorm((768,), eps=1e-12, elementwise_affine=True)\n",
       "              (dropout): Dropout(p=0.1, inplace=False)\n",
       "            )\n",
       "          )\n",
       "          (intermediate): BertIntermediate(\n",
       "            (dense): Linear(in_features=768, out_features=3072, bias=True)\n",
       "          )\n",
       "          (output): BertOutput(\n",
       "            (dense): Linear(in_features=3072, out_features=768, bias=True)\n",
       "            (LayerNorm): LayerNorm((768,), eps=1e-12, elementwise_affine=True)\n",
       "            (dropout): Dropout(p=0.1, inplace=False)\n",
       "          )\n",
       "        )\n",
       "        (3): BertLayer(\n",
       "          (attention): BertAttention(\n",
       "            (self): BertSelfAttention(\n",
       "              (query): Linear(in_features=768, out_features=768, bias=True)\n",
       "              (key): Linear(in_features=768, out_features=768, bias=True)\n",
       "              (value): Linear(in_features=768, out_features=768, bias=True)\n",
       "              (dropout): Dropout(p=0.1, inplace=False)\n",
       "            )\n",
       "            (output): BertSelfOutput(\n",
       "              (dense): Linear(in_features=768, out_features=768, bias=True)\n",
       "              (LayerNorm): LayerNorm((768,), eps=1e-12, elementwise_affine=True)\n",
       "              (dropout): Dropout(p=0.1, inplace=False)\n",
       "            )\n",
       "          )\n",
       "          (intermediate): BertIntermediate(\n",
       "            (dense): Linear(in_features=768, out_features=3072, bias=True)\n",
       "          )\n",
       "          (output): BertOutput(\n",
       "            (dense): Linear(in_features=3072, out_features=768, bias=True)\n",
       "            (LayerNorm): LayerNorm((768,), eps=1e-12, elementwise_affine=True)\n",
       "            (dropout): Dropout(p=0.1, inplace=False)\n",
       "          )\n",
       "        )\n",
       "        (4): BertLayer(\n",
       "          (attention): BertAttention(\n",
       "            (self): BertSelfAttention(\n",
       "              (query): Linear(in_features=768, out_features=768, bias=True)\n",
       "              (key): Linear(in_features=768, out_features=768, bias=True)\n",
       "              (value): Linear(in_features=768, out_features=768, bias=True)\n",
       "              (dropout): Dropout(p=0.1, inplace=False)\n",
       "            )\n",
       "            (output): BertSelfOutput(\n",
       "              (dense): Linear(in_features=768, out_features=768, bias=True)\n",
       "              (LayerNorm): LayerNorm((768,), eps=1e-12, elementwise_affine=True)\n",
       "              (dropout): Dropout(p=0.1, inplace=False)\n",
       "            )\n",
       "          )\n",
       "          (intermediate): BertIntermediate(\n",
       "            (dense): Linear(in_features=768, out_features=3072, bias=True)\n",
       "          )\n",
       "          (output): BertOutput(\n",
       "            (dense): Linear(in_features=3072, out_features=768, bias=True)\n",
       "            (LayerNorm): LayerNorm((768,), eps=1e-12, elementwise_affine=True)\n",
       "            (dropout): Dropout(p=0.1, inplace=False)\n",
       "          )\n",
       "        )\n",
       "        (5): BertLayer(\n",
       "          (attention): BertAttention(\n",
       "            (self): BertSelfAttention(\n",
       "              (query): Linear(in_features=768, out_features=768, bias=True)\n",
       "              (key): Linear(in_features=768, out_features=768, bias=True)\n",
       "              (value): Linear(in_features=768, out_features=768, bias=True)\n",
       "              (dropout): Dropout(p=0.1, inplace=False)\n",
       "            )\n",
       "            (output): BertSelfOutput(\n",
       "              (dense): Linear(in_features=768, out_features=768, bias=True)\n",
       "              (LayerNorm): LayerNorm((768,), eps=1e-12, elementwise_affine=True)\n",
       "              (dropout): Dropout(p=0.1, inplace=False)\n",
       "            )\n",
       "          )\n",
       "          (intermediate): BertIntermediate(\n",
       "            (dense): Linear(in_features=768, out_features=3072, bias=True)\n",
       "          )\n",
       "          (output): BertOutput(\n",
       "            (dense): Linear(in_features=3072, out_features=768, bias=True)\n",
       "            (LayerNorm): LayerNorm((768,), eps=1e-12, elementwise_affine=True)\n",
       "            (dropout): Dropout(p=0.1, inplace=False)\n",
       "          )\n",
       "        )\n",
       "        (6): BertLayer(\n",
       "          (attention): BertAttention(\n",
       "            (self): BertSelfAttention(\n",
       "              (query): Linear(in_features=768, out_features=768, bias=True)\n",
       "              (key): Linear(in_features=768, out_features=768, bias=True)\n",
       "              (value): Linear(in_features=768, out_features=768, bias=True)\n",
       "              (dropout): Dropout(p=0.1, inplace=False)\n",
       "            )\n",
       "            (output): BertSelfOutput(\n",
       "              (dense): Linear(in_features=768, out_features=768, bias=True)\n",
       "              (LayerNorm): LayerNorm((768,), eps=1e-12, elementwise_affine=True)\n",
       "              (dropout): Dropout(p=0.1, inplace=False)\n",
       "            )\n",
       "          )\n",
       "          (intermediate): BertIntermediate(\n",
       "            (dense): Linear(in_features=768, out_features=3072, bias=True)\n",
       "          )\n",
       "          (output): BertOutput(\n",
       "            (dense): Linear(in_features=3072, out_features=768, bias=True)\n",
       "            (LayerNorm): LayerNorm((768,), eps=1e-12, elementwise_affine=True)\n",
       "            (dropout): Dropout(p=0.1, inplace=False)\n",
       "          )\n",
       "        )\n",
       "        (7): BertLayer(\n",
       "          (attention): BertAttention(\n",
       "            (self): BertSelfAttention(\n",
       "              (query): Linear(in_features=768, out_features=768, bias=True)\n",
       "              (key): Linear(in_features=768, out_features=768, bias=True)\n",
       "              (value): Linear(in_features=768, out_features=768, bias=True)\n",
       "              (dropout): Dropout(p=0.1, inplace=False)\n",
       "            )\n",
       "            (output): BertSelfOutput(\n",
       "              (dense): Linear(in_features=768, out_features=768, bias=True)\n",
       "              (LayerNorm): LayerNorm((768,), eps=1e-12, elementwise_affine=True)\n",
       "              (dropout): Dropout(p=0.1, inplace=False)\n",
       "            )\n",
       "          )\n",
       "          (intermediate): BertIntermediate(\n",
       "            (dense): Linear(in_features=768, out_features=3072, bias=True)\n",
       "          )\n",
       "          (output): BertOutput(\n",
       "            (dense): Linear(in_features=3072, out_features=768, bias=True)\n",
       "            (LayerNorm): LayerNorm((768,), eps=1e-12, elementwise_affine=True)\n",
       "            (dropout): Dropout(p=0.1, inplace=False)\n",
       "          )\n",
       "        )\n",
       "        (8): BertLayer(\n",
       "          (attention): BertAttention(\n",
       "            (self): BertSelfAttention(\n",
       "              (query): Linear(in_features=768, out_features=768, bias=True)\n",
       "              (key): Linear(in_features=768, out_features=768, bias=True)\n",
       "              (value): Linear(in_features=768, out_features=768, bias=True)\n",
       "              (dropout): Dropout(p=0.1, inplace=False)\n",
       "            )\n",
       "            (output): BertSelfOutput(\n",
       "              (dense): Linear(in_features=768, out_features=768, bias=True)\n",
       "              (LayerNorm): LayerNorm((768,), eps=1e-12, elementwise_affine=True)\n",
       "              (dropout): Dropout(p=0.1, inplace=False)\n",
       "            )\n",
       "          )\n",
       "          (intermediate): BertIntermediate(\n",
       "            (dense): Linear(in_features=768, out_features=3072, bias=True)\n",
       "          )\n",
       "          (output): BertOutput(\n",
       "            (dense): Linear(in_features=3072, out_features=768, bias=True)\n",
       "            (LayerNorm): LayerNorm((768,), eps=1e-12, elementwise_affine=True)\n",
       "            (dropout): Dropout(p=0.1, inplace=False)\n",
       "          )\n",
       "        )\n",
       "        (9): BertLayer(\n",
       "          (attention): BertAttention(\n",
       "            (self): BertSelfAttention(\n",
       "              (query): Linear(in_features=768, out_features=768, bias=True)\n",
       "              (key): Linear(in_features=768, out_features=768, bias=True)\n",
       "              (value): Linear(in_features=768, out_features=768, bias=True)\n",
       "              (dropout): Dropout(p=0.1, inplace=False)\n",
       "            )\n",
       "            (output): BertSelfOutput(\n",
       "              (dense): Linear(in_features=768, out_features=768, bias=True)\n",
       "              (LayerNorm): LayerNorm((768,), eps=1e-12, elementwise_affine=True)\n",
       "              (dropout): Dropout(p=0.1, inplace=False)\n",
       "            )\n",
       "          )\n",
       "          (intermediate): BertIntermediate(\n",
       "            (dense): Linear(in_features=768, out_features=3072, bias=True)\n",
       "          )\n",
       "          (output): BertOutput(\n",
       "            (dense): Linear(in_features=3072, out_features=768, bias=True)\n",
       "            (LayerNorm): LayerNorm((768,), eps=1e-12, elementwise_affine=True)\n",
       "            (dropout): Dropout(p=0.1, inplace=False)\n",
       "          )\n",
       "        )\n",
       "        (10): BertLayer(\n",
       "          (attention): BertAttention(\n",
       "            (self): BertSelfAttention(\n",
       "              (query): Linear(in_features=768, out_features=768, bias=True)\n",
       "              (key): Linear(in_features=768, out_features=768, bias=True)\n",
       "              (value): Linear(in_features=768, out_features=768, bias=True)\n",
       "              (dropout): Dropout(p=0.1, inplace=False)\n",
       "            )\n",
       "            (output): BertSelfOutput(\n",
       "              (dense): Linear(in_features=768, out_features=768, bias=True)\n",
       "              (LayerNorm): LayerNorm((768,), eps=1e-12, elementwise_affine=True)\n",
       "              (dropout): Dropout(p=0.1, inplace=False)\n",
       "            )\n",
       "          )\n",
       "          (intermediate): BertIntermediate(\n",
       "            (dense): Linear(in_features=768, out_features=3072, bias=True)\n",
       "          )\n",
       "          (output): BertOutput(\n",
       "            (dense): Linear(in_features=3072, out_features=768, bias=True)\n",
       "            (LayerNorm): LayerNorm((768,), eps=1e-12, elementwise_affine=True)\n",
       "            (dropout): Dropout(p=0.1, inplace=False)\n",
       "          )\n",
       "        )\n",
       "        (11): BertLayer(\n",
       "          (attention): BertAttention(\n",
       "            (self): BertSelfAttention(\n",
       "              (query): Linear(in_features=768, out_features=768, bias=True)\n",
       "              (key): Linear(in_features=768, out_features=768, bias=True)\n",
       "              (value): Linear(in_features=768, out_features=768, bias=True)\n",
       "              (dropout): Dropout(p=0.1, inplace=False)\n",
       "            )\n",
       "            (output): BertSelfOutput(\n",
       "              (dense): Linear(in_features=768, out_features=768, bias=True)\n",
       "              (LayerNorm): LayerNorm((768,), eps=1e-12, elementwise_affine=True)\n",
       "              (dropout): Dropout(p=0.1, inplace=False)\n",
       "            )\n",
       "          )\n",
       "          (intermediate): BertIntermediate(\n",
       "            (dense): Linear(in_features=768, out_features=3072, bias=True)\n",
       "          )\n",
       "          (output): BertOutput(\n",
       "            (dense): Linear(in_features=3072, out_features=768, bias=True)\n",
       "            (LayerNorm): LayerNorm((768,), eps=1e-12, elementwise_affine=True)\n",
       "            (dropout): Dropout(p=0.1, inplace=False)\n",
       "          )\n",
       "        )\n",
       "      )\n",
       "    )\n",
       "    (pooler): BertPooler(\n",
       "      (dense): Linear(in_features=768, out_features=768, bias=True)\n",
       "      (activation): Tanh()\n",
       "    )\n",
       "  )\n",
       "  (embeddings): BertEmbeddings(\n",
       "    (word_embeddings): Embedding(21128, 768, padding_idx=0)\n",
       "    (position_embeddings): Embedding(512, 768)\n",
       "    (token_type_embeddings): Embedding(2, 768)\n",
       "    (LayerNorm): LayerNorm((768,), eps=1e-12, elementwise_affine=True)\n",
       "    (dropout): Dropout(p=0.1, inplace=False)\n",
       "  )\n",
       "  (dropout): Dropout(p=0.1, inplace=False)\n",
       "  (classifier): Linear(in_features=768, out_features=1, bias=True)\n",
       "  (prefix_encoder): Embedding(19, 9216)\n",
       ")"
      ]
     },
     "execution_count": 18,
     "metadata": {},
     "output_type": "execute_result"
    }
   ],
   "source": [
    "model.to('cuda')"
   ]
  },
  {
   "cell_type": "code",
   "execution_count": 19,
   "id": "1947e222",
   "metadata": {},
   "outputs": [
    {
     "data": {
      "text/plain": [
       "'scheduler with warm up'"
      ]
     },
     "execution_count": 19,
     "metadata": {},
     "output_type": "execute_result"
    }
   ],
   "source": [
    "'''grad accum steps'''\n",
    "# https://gist.github.com/thomwolf/ac7a7da6b1888c2eeac8ac8b9b05d3d3\n",
    "'''trainer'''\n",
    "# https://github.com/huggingface/transformers/blob/main/src/transformers/trainer.py#L1453\n",
    "'''scheduler with warm up'''\n",
    "# https://github.com/huggingface/transformers/blob/198c335d219a5eb4d3f124fdd1ce1a9cd9f78a9b/src/transformers/optimization.py#L75"
   ]
  },
  {
   "cell_type": "code",
   "execution_count": 19,
   "id": "08581bd7",
   "metadata": {},
   "outputs": [
    {
     "name": "stderr",
     "output_type": "stream",
     "text": [
      "Failed to detect the name of this notebook, you can set it manually with the WANDB_NOTEBOOK_NAME environment variable to enable code saving.\n"
     ]
    },
    {
     "name": "stdout",
     "output_type": "stream",
     "text": [
      "*\tName of the run: 0328-1616_RPBert_allc\n"
     ]
    },
    {
     "name": "stderr",
     "output_type": "stream",
     "text": [
      "\u001b[34m\u001b[1mwandb\u001b[0m: Currently logged in as: \u001b[33mnana2929\u001b[0m (use `wandb login --relogin` to force relogin)\n"
     ]
    },
    {
     "data": {
      "text/html": [
       "Tracking run with wandb version 0.12.11"
      ],
      "text/plain": [
       "<IPython.core.display.HTML object>"
      ]
     },
     "metadata": {},
     "output_type": "display_data"
    },
    {
     "data": {
      "text/html": [
       "Run data is saved locally in <code>/mnt/md0/data/avo727/PromptTuning/runs/wandb/run-20220328_161602-1m9c19wq</code>"
      ],
      "text/plain": [
       "<IPython.core.display.HTML object>"
      ]
     },
     "metadata": {},
     "output_type": "display_data"
    },
    {
     "data": {
      "text/html": [
       "Syncing run <strong><a href=\"https://wandb.ai/nana2929/prompt_tuning_rp_v3/runs/1m9c19wq\" target=\"_blank\">0328-1616_RPBert_allc</a></strong> to <a href=\"https://wandb.ai/nana2929/prompt_tuning_rp_v3\" target=\"_blank\">Weights & Biases</a> (<a href=\"https://wandb.me/run\" target=\"_blank\">docs</a>)<br/>"
      ],
      "text/plain": [
       "<IPython.core.display.HTML object>"
      ]
     },
     "metadata": {},
     "output_type": "display_data"
    }
   ],
   "source": [
    "'''creating model directory'''\n",
    "from datetime import datetime\n",
    "import os\n",
    "import wandb \n",
    "now = datetime.now()\n",
    "timeprefix = now.strftime(\"%m%d-%H%M\")\n",
    "runname = f'{timeprefix}_RPBert_allc'\n",
    "\n",
    "model_dir = f'{maindir}/runs_v2/{runname}'\n",
    "print('*\\tName of the run:', runname)\n",
    "os.makedirs(model_dir, exist_ok = True)\n",
    "\n",
    "wandb.init(project='prompt_tuning_rp_v3', name = runname, \n",
    "           entity='nana2929', group=\"no trainer\")\n",
    "wandb.config.update({\n",
    "    'learning_rate':lr,\n",
    "    'batch_size':batchsize,\n",
    "    'weight_decay':wd,\n",
    "    'seed':myseed,\n",
    "    'n_tokens':n_tokens, \n",
    "    'epochs':epochs, \n",
    "    'scheduler': scheduler_type,  \n",
    "})\n",
    "# WANDB_NOTEBOOK_NAME"
   ]
  },
  {
   "cell_type": "code",
   "execution_count": 22,
   "id": "b4a9b156",
   "metadata": {},
   "outputs": [],
   "source": [
    "#print(scheduler)"
   ]
  },
  {
   "cell_type": "code",
   "execution_count": 20,
   "id": "9c555199",
   "metadata": {},
   "outputs": [
    {
     "name": "stdout",
     "output_type": "stream",
     "text": [
      "train batch number: 41 \n",
      "eval batch number: 11\n"
     ]
    }
   ],
   "source": [
    "import torch\n",
    "from torch import nn\n",
    "from torch.utils.data import (DataLoader, RandomSampler, SequentialSampler)\n",
    "from PromptTuningBERT_allchoice_v2 import BertPromptForMultipleChoice\n",
    "from tqdm import tqdm \n",
    "\n",
    "train_loader = DataLoader(encoded_dataset['train'], \n",
    "                    shuffle=False, \n",
    "                    collate_fn=DataCollatorForMultipleChoice(), \n",
    "                    batch_size=batchsize)\n",
    "num_warmup_steps = warmup_ratio * epochs * len(train_loader)\n",
    "num_tr_steps = epochs * len(train_loader)\n",
    "'''weight decay (in optimizer)'''\n",
    "optimizer = optim.AdamW(model.parameters(), \n",
    "                        lr=lr, \n",
    "                        weight_decay = wd, # 有兩種weight decay方法\n",
    "                        eps = 1e-08) # 1e-08, training args default \n",
    "'''scheduler/warmup'''\n",
    "# https://github.com/huggingface/transformers/blob/main/src/transformers/optimization.py#L233\n",
    "# scheduler = get_scheduler(scheduler_type, optimizer, \n",
    "#                           num_warmup_steps = num_warmup_steps, \n",
    "#                           num_training_steps = num_tr_steps)\n",
    "eval_loader = DataLoader(encoded_dataset['test'], \n",
    "                    shuffle=False, \n",
    "                    collate_fn=DataCollatorForMultipleChoice(), \n",
    "                    batch_size=batchsize)\n",
    "n_train_batch, n_eval_batch = len(train_loader), len(eval_loader)\n",
    "print('train batch number:', n_train_batch, '\\neval batch number:', n_eval_batch)"
   ]
  },
  {
   "cell_type": "code",
   "execution_count": 21,
   "id": "a6770fc3",
   "metadata": {},
   "outputs": [
    {
     "name": "stdout",
     "output_type": "stream",
     "text": [
      "epoch 1\n",
      "*\ttrain loss: 0.7000\n",
      "*\teval loss: 0.6898,  \teval acc: 0.4715\n",
      "* \tSaving model at eval accuracy: 0.4715447154471545.\n",
      "*\tacc|numchoice = 2: 0.460\n",
      "*\tacc|numchoice = 3: 0.600\n",
      "epoch 2\n",
      "*\ttrain loss: 0.6764\n",
      "*\teval loss: 0.6927,  \teval acc: 0.4878\n",
      "* \tSaving model at eval accuracy: 0.4878048780487805.\n",
      "*\tacc|numchoice = 2: 0.504\n",
      "*\tacc|numchoice = 3: 0.300\n",
      "epoch 3\n",
      "*\ttrain loss: 0.6778\n",
      "*\teval loss: 0.6862,  \teval acc: 0.4878\n",
      "*\tacc|numchoice = 2: 0.478\n",
      "*\tacc|numchoice = 3: 0.600\n",
      "epoch 4\n",
      "*\ttrain loss: 0.6701\n",
      "*\teval loss: 0.6865,  \teval acc: 0.5366\n",
      "* \tSaving model at eval accuracy: 0.5365853658536586.\n",
      "*\tacc|numchoice = 2: 0.513\n",
      "*\tacc|numchoice = 3: 0.800\n",
      "epoch 5\n",
      "*\ttrain loss: 0.6664\n",
      "*\teval loss: 0.6922,  \teval acc: 0.5447\n",
      "* \tSaving model at eval accuracy: 0.5447154471544715.\n",
      "*\tacc|numchoice = 2: 0.522\n",
      "*\tacc|numchoice = 3: 0.800\n",
      "epoch 6\n",
      "*\ttrain loss: 0.6464\n",
      "*\teval loss: 0.6960,  \teval acc: 0.5285\n",
      "*\tacc|numchoice = 2: 0.513\n",
      "*\tacc|numchoice = 3: 0.700\n",
      "epoch 7\n",
      "*\ttrain loss: 0.6317\n",
      "*\teval loss: 0.7059,  \teval acc: 0.4959\n",
      "*\tacc|numchoice = 2: 0.469\n",
      "*\tacc|numchoice = 3: 0.800\n",
      "epoch 8\n",
      "*\ttrain loss: 0.6166\n",
      "*\teval loss: 0.7021,  \teval acc: 0.5203\n",
      "*\tacc|numchoice = 2: 0.496\n",
      "*\tacc|numchoice = 3: 0.800\n",
      "epoch 9\n",
      "*\ttrain loss: 0.6008\n",
      "*\teval loss: 0.7144,  \teval acc: 0.5203\n",
      "*\tacc|numchoice = 2: 0.513\n",
      "*\tacc|numchoice = 3: 0.600\n",
      "epoch 10\n",
      "*\ttrain loss: 0.5715\n",
      "*\teval loss: 0.7672,  \teval acc: 0.5285\n",
      "*\tacc|numchoice = 2: 0.513\n",
      "*\tacc|numchoice = 3: 0.700\n",
      "epoch 11\n",
      "*\ttrain loss: 0.5704\n",
      "*\teval loss: 0.7316,  \teval acc: 0.5285\n",
      "*\tacc|numchoice = 2: 0.513\n",
      "*\tacc|numchoice = 3: 0.700\n",
      "epoch 12\n",
      "*\ttrain loss: 0.5493\n",
      "*\teval loss: 0.7553,  \teval acc: 0.5122\n",
      "*\tacc|numchoice = 2: 0.496\n",
      "*\tacc|numchoice = 3: 0.700\n",
      "epoch 13\n",
      "*\ttrain loss: 0.5252\n",
      "*\teval loss: 0.7392,  \teval acc: 0.4715\n",
      "*\tacc|numchoice = 2: 0.460\n",
      "*\tacc|numchoice = 3: 0.600\n",
      "epoch 14\n",
      "*\ttrain loss: 0.5027\n",
      "*\teval loss: 0.7864,  \teval acc: 0.5203\n",
      "*\tacc|numchoice = 2: 0.504\n",
      "*\tacc|numchoice = 3: 0.700\n",
      "epoch 15\n",
      "*\ttrain loss: 0.4692\n",
      "*\teval loss: 0.7926,  \teval acc: 0.5041\n",
      "*\tacc|numchoice = 2: 0.487\n",
      "*\tacc|numchoice = 3: 0.700\n",
      "epoch 16\n",
      "*\ttrain loss: 0.4422\n",
      "*\teval loss: 0.8542,  \teval acc: 0.5203\n",
      "*\tacc|numchoice = 2: 0.504\n",
      "*\tacc|numchoice = 3: 0.700\n",
      "epoch 17\n",
      "*\ttrain loss: 0.4567\n",
      "*\teval loss: 0.8586,  \teval acc: 0.5122\n",
      "*\tacc|numchoice = 2: 0.504\n",
      "*\tacc|numchoice = 3: 0.600\n",
      "epoch 18\n",
      "*\ttrain loss: 0.3910\n",
      "*\teval loss: 0.9145,  \teval acc: 0.5203\n",
      "*\tacc|numchoice = 2: 0.504\n",
      "*\tacc|numchoice = 3: 0.700\n",
      "epoch 19\n",
      "*\ttrain loss: 0.3889\n",
      "*\teval loss: 0.9852,  \teval acc: 0.4797\n",
      "*\tacc|numchoice = 2: 0.469\n",
      "*\tacc|numchoice = 3: 0.600\n",
      "epoch 20\n",
      "*\ttrain loss: 0.3997\n",
      "*\teval loss: 0.8718,  \teval acc: 0.4797\n",
      "*\tacc|numchoice = 2: 0.469\n",
      "*\tacc|numchoice = 3: 0.600\n"
     ]
    }
   ],
   "source": [
    "from torch.utils.data import (DataLoader, RandomSampler, SequentialSampler)\n",
    "\n",
    "loss_vec, eloss_vec = [], []\n",
    "best_eval_acc = 0 \n",
    "for epoch in range(epochs):\n",
    "    '''training'''\n",
    "    model.train()\n",
    "    tr_loss, ev_loss = 0,0 \n",
    "    for i, batch in enumerate(train_loader):  \n",
    "        batch = {k: batch[k].to('cuda') for k in batch}\n",
    "        out = model(**batch)\n",
    "        loss = out.loss\n",
    "        tr_loss += loss.item()\n",
    "        loss.backward()\n",
    "        optimizer.step()\n",
    "        optimizer.zero_grad()\n",
    "    # scheduler.step()\n",
    "    loss_vec.append((tr_loss/n_train_batch))\n",
    "    '''evaluating'''\n",
    "    print(f'epoch {epoch+1}')\n",
    "    model.eval()\n",
    "    all_labels, all_logits = [], []\n",
    "    for i, batch in enumerate(eval_loader):\n",
    "        with torch.no_grad():\n",
    "            batch = {k: batch[k].to('cuda') for k in batch}\n",
    "            out = model(**batch)\n",
    "            loss = out.loss\n",
    "            ev_loss += loss.item()\n",
    "            logits = out.logits\n",
    "            labels = batch['labels'].cpu().detach().numpy()\n",
    "            logits = logits.cpu().detach().numpy()\n",
    "            all_labels.append(labels)\n",
    "            all_logits.append(logits)\n",
    "    eloss_vec.append(ev_loss/n_eval_batch)      \n",
    "    # concatenating the logits\n",
    "    '''Computing metrics and logging'''\n",
    "    all_labels = np.concatenate(all_labels, axis = None)\n",
    "    all_logits = np.concatenate(all_logits, axis = None)\n",
    "    eval_acc, eval_acc_dict = ComputeMetrics()(all_logits, all_labels)\n",
    "    print(f'*\\ttrain loss: {(tr_loss/n_train_batch):.4f}' )\n",
    "    print(f'*\\teval loss: {(ev_loss/n_eval_batch):.4f},  \\teval acc: {eval_acc:.4f}')\n",
    "    if best_eval_acc < eval_acc:\n",
    "        print(f'* \\tSaving model at eval accuracy: {eval_acc}.')\n",
    "        # model.save_pretrained(model_dir)\n",
    "        best_eval_acc = eval_acc\n",
    "#     wandb.log({\n",
    "#             \"train loss\": tr_loss/n_train_batch,\n",
    "#             \"eval loss\": ev_loss/n_eval_batch,\n",
    "#             \"eval acc\": eval_acc,\n",
    "#         })\n",
    "    for k, v in eval_acc_dict.items():\n",
    "        print(f'*\\tacc|numchoice = {k}: {v:.3f}') "
   ]
  },
  {
   "cell_type": "code",
   "execution_count": null,
   "id": "1c8a337a",
   "metadata": {},
   "outputs": [],
   "source": [
    "# 1. model.train()和model.eval()竟然影響ㄌupdates <-沒設的時候一切正常，有設就沒法backward()??\n",
    "#                                                 感覺下降幅度變慢（15 epochs內只能0.71 -> 0.33，降0.2~0.3）\n",
    "#                                                 而且幅度抖動比較不穩定\n",
    "# 2. 加gradient accumulation steps（甚至只開1也有差），也是 15 epochs內只能0.71 -> 0.417\n",
    "# 3. labels=torch.tensor(labels, dtype=torch.float32).to(self._device)\n",
    "#    vs. sourceTensor.clone().detach()\n",
    "# 4. 加入gradient clipping (第二層for 迴圈內)直接爆掉，整個loss完全不會動\n",
    "# 5. 加scheduler下降幅度超級慢，15 epochs內只能0.75 -> 0.67\n",
    "# 最好的狀態大概是eval acc = 0.53，不加scheduler和grad-clipping"
   ]
  },
  {
   "cell_type": "code",
   "execution_count": 22,
   "id": "4e5bdc8e",
   "metadata": {},
   "outputs": [
    {
     "data": {
      "text/plain": [
       "[<matplotlib.lines.Line2D at 0x7ff40bb49340>]"
      ]
     },
     "execution_count": 22,
     "metadata": {},
     "output_type": "execute_result"
    },
    {
     "data": {
      "image/png": "[encoded data removed]",
      "text/plain": [
       "<Figure size 432x288 with 1 Axes>"
      ]
     },
     "metadata": {
      "needs_background": "light"
     },
     "output_type": "display_data"
    }
   ],
   "source": [
    "from matplotlib import pyplot as plt\n",
    "plt.plot(loss_vec)\n",
    "plt.plot(eloss_vec)"
   ]
  },
  {
   "cell_type": "code",
   "execution_count": null,
   "id": "7ce6ac9a",
   "metadata": {},
   "outputs": [],
   "source": [
    "# toy example \n",
    "model = BertPromptForMultipleChoice.from_pretrained(base_model, config)\n",
    "model.to('cuda')\n",
    "loss_vec = []\n",
    "for i in range(20):# epochs = 20 \n",
    "    for batch in train_loader:  \n",
    "        batch = {k: batch[k].to('cuda') for k in batch}\n",
    "        optimizer.zero_grad()\n",
    "        out = model(**batch)\n",
    "        loss = out.loss\n",
    "        loss.backward()\n",
    "        optimizer.step()\n",
    "        loss_vec.append(loss.item())\n",
    "    print(loss_vec[-1])"
   ]
  },
  {
   "cell_type": "code",
   "execution_count": null,
   "id": "4cfb0cd3",
   "metadata": {},
   "outputs": [],
   "source": [
    "from matplotlib import pyplot as plt\n",
    "plt.plot(loss_vec)"
   ]
  },
  {
   "cell_type": "code",
   "execution_count": null,
   "id": "e9324690",
   "metadata": {},
   "outputs": [],
   "source": [
    "'''gradient-clipping'''\n",
    "# if hasattr(optimizer, \"clip_grad_norm\"):\n",
    "#     # Some optimizers (like the sharded optimizer) have a specific way to do gradient clipping\n",
    "#     optimizer.clip_grad_norm(max_grad_norm)\n",
    "# elif hasattr(model, \"clip_grad_norm_\"):\n",
    "#     # Some models (like FullyShardedDDP) have a specific way to do gradient clipping\n",
    "#     model.clip_grad_norm_(max_grad_norm)\n",
    "# else: # fall back to normal torch utils\n",
    "#     nn.utils.clip_grad_norm_(\n",
    "#         model.parameters(),\n",
    "#         max_grad_norm,\n",
    "#     )"
   ]
  },
  {
   "cell_type": "markdown",
   "id": "f025291f",
   "metadata": {},
   "source": [
    "## To-add features"
   ]
  },
  {
   "cell_type": "code",
   "execution_count": null,
   "id": "0007f3a3",
   "metadata": {},
   "outputs": [],
   "source": []
  }
 ],
 "metadata": {
  "kernelspec": {
   "display_name": "Python 3 (ipykernel)",
   "language": "python",
   "name": "python3"
  },
  "language_info": {
   "codemirror_mode": {
    "name": "ipython",
    "version": 3
   },
   "file_extension": ".py",
   "mimetype": "text/x-python",
   "name": "python",
   "nbconvert_exporter": "python",
   "pygments_lexer": "ipython3",
   "version": "3.9.5"
  }
 },
 "nbformat": 4,
 "nbformat_minor": 5
}
