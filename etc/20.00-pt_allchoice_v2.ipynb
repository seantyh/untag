{
 "cells": [
  {
   "cell_type": "code",
   "execution_count": 1,
   "id": "235ced54-5243-440d-9a61-8559081b827f",
   "metadata": {},
   "outputs": [],
   "source": [
    "%reload_ext autoreload\n",
    "%autoreload 2"
   ]
  },
  {
   "cell_type": "code",
   "execution_count": 2,
   "id": "3d001407-e797-45a0-bb39-38abf8b5a51f",
   "metadata": {},
   "outputs": [],
   "source": [
    "import sys\n",
    "sys.path.append(\"../src\")"
   ]
  },
  {
   "cell_type": "code",
   "execution_count": 3,
   "id": "97c46a5a-0060-4e1f-a7a3-e9840313ec8a",
   "metadata": {},
   "outputs": [],
   "source": [
    "import random\n",
    "import pickle\n",
    "import numpy as np\n",
    "import matplotlib.pyplot as plt\n",
    "from tqdm.auto import tqdm \n",
    "\n",
    "import torch\n",
    "from torch import nn\n",
    "import torch.optim as optim\n",
    "from torch.utils.data import (DataLoader, RandomSampler, SequentialSampler)\n",
    "import torch.nn.functional as F\n",
    "from torch.nn import CrossEntropyLoss\n",
    "\n",
    "from torchmetrics import MeanMetric\n",
    "from transformers import set_seed, get_scheduler\n",
    "from transformers import BertModel, BertPreTrainedModel\n",
    "from transformers.modeling_outputs import MultipleChoiceModelOutput\n",
    "from transformers import AutoModelForMultipleChoice, BertTokenizerFast\n",
    "import datasets\n",
    "from datasets import Dataset, load_metric\n",
    "from PromptTuningBERT_allchoice_v2 import BertPromptForMultipleChoice"
   ]
  },
  {
   "cell_type": "markdown",
   "id": "4276c7c8-d310-4f5a-897a-62d048bc91f6",
   "metadata": {},
   "source": [
    "# Setting up environment"
   ]
  },
  {
   "cell_type": "markdown",
   "id": "6989b187",
   "metadata": {},
   "source": [
    "## Loading Dataset "
   ]
  },
  {
   "cell_type": "code",
   "execution_count": 4,
   "id": "9be03755",
   "metadata": {},
   "outputs": [],
   "source": [
    "# Server Paths \n",
    "# ..data/avo727/PromptTuning/CWNdata/Sean_PT2_encoded_dataset\n",
    "maindir = \"/mnt/md0/data/avo727/PromptTuning\"\n",
    "datadir = f\"{maindir}/CWN_data\"\n",
    "preddir = f\"{maindir}/model_predictions\"\n",
    "datasetdir= f\"{maindir}/CWNdata/PT2_allchoice_encoded_dataset\""
   ]
  },
  {
   "cell_type": "code",
   "execution_count": 5,
   "id": "4a1fc8d2",
   "metadata": {},
   "outputs": [],
   "source": [
    "encoded_dataset = datasets.load_from_disk(datasetdir)"
   ]
  },
  {
   "cell_type": "code",
   "execution_count": 6,
   "id": "6317182d",
   "metadata": {},
   "outputs": [
    {
     "data": {
      "text/plain": [
       "123"
      ]
     },
     "execution_count": 6,
     "metadata": {},
     "output_type": "execute_result"
    }
   ],
   "source": [
    "len(encoded_dataset['test']['numchoices'])"
   ]
  },
  {
   "cell_type": "markdown",
   "id": "05f595b9",
   "metadata": {},
   "source": [
    "## Data Collator "
   ]
  },
  {
   "cell_type": "code",
   "execution_count": 7,
   "id": "4e38121c",
   "metadata": {},
   "outputs": [],
   "source": [
    "base_model = 'bert-base-chinese'\n",
    "tokenizer = BertTokenizerFast.from_pretrained(base_model)"
   ]
  },
  {
   "cell_type": "code",
   "execution_count": 8,
   "id": "b5314ce4",
   "metadata": {},
   "outputs": [],
   "source": [
    "from dataclasses import dataclass\n",
    "@dataclass\n",
    "class DataCollatorForMultipleChoice:\n",
    "    \"\"\"\n",
    "    Data collator that will dynamically pad the inputs for multiple choice received.\n",
    "    allchoice version: 全數攤平送往model內部處理（不經unflatten，確保傳輸numchoices）\n",
    "    \"\"\"\n",
    "    tokenizer = tokenizer\n",
    "    padding, trunc = True, True\n",
    "    max_length =  None\n",
    "    pad_to_multiple_of = None\n",
    "    \n",
    "    def __call__(self, features):\n",
    "        label_name = \"label\" if \"label\" in features[0].keys() else \"labels\"\n",
    "        pin_label = True if \"label\" in features[0].keys() else False\n",
    "        accepted_keys = [\"input_ids\", \"attention_mask\", \"label\", \n",
    "                         \"token_type_ids\", 'class_selector', 'numchoices']\n",
    "        batch_size = len(features)\n",
    "        labels = [feature.pop(label_name) for feature in features]\n",
    "        numchoices = [feature.pop('numchoices') for feature in features]\n",
    "        seq_classes = [feature.pop('class_selector') for feature in features]\n",
    "        \n",
    "        flattened_features = [[{k: v[i] for k, v in feature.items() if k in accepted_keys} \n",
    "                               for i in range(nc)] for feature, nc in zip(features, numchoices)]\n",
    "        flattened_features = sum(flattened_features, [])\n",
    "        batch = self.tokenizer.pad(\n",
    "            flattened_features,\n",
    "            padding= \"longest\",\n",
    "            max_length= self.max_length,\n",
    "            pad_to_multiple_of=self.pad_to_multiple_of,\n",
    "            return_tensors=\"pt\",\n",
    "        )\n",
    "        # processing labels: \n",
    "        proclabels = []\n",
    "        for l, nc in zip(labels, numchoices):\n",
    "            label = [0]*nc\n",
    "            label[l] = 1\n",
    "            proclabels.extend(label)\n",
    "        batch = {k: v for k, v in batch.items() if k in accepted_keys}\n",
    "        assert len(proclabels) ==  len(batch['input_ids'])\n",
    "        # print(len(batch['input_ids'])) # print(sum([len(x) for x in seq_classes])) # should match \n",
    "        # flattening list of lists\n",
    "        batch[\"class_selector\"] = torch.tensor(sum(seq_classes, [])) \n",
    "        batch[\"labels\"] = torch.tensor(proclabels, dtype=torch.int64)\n",
    "        batch[\"numchoices\"] = torch.tensor(numchoices, dtype=torch.int64)\n",
    "        # all flattened into instances (instead of problems)\n",
    "        return batch"
   ]
  },
  {
   "cell_type": "markdown",
   "id": "e5542549",
   "metadata": {},
   "source": [
    "## Compute Metrics"
   ]
  },
  {
   "cell_type": "code",
   "execution_count": 9,
   "id": "a4b99676",
   "metadata": {},
   "outputs": [],
   "source": [
    "# ( predictions: typing.Union[numpy.ndarray, typing.Tuple[numpy.ndarray]]\n",
    "# label_ids: typing.Union[numpy.ndarray, typing.Tuple[numpy.ndarray]] )\n",
    "class ComputeMetrics:\n",
    "    from datasets import Dataset, load_metric\n",
    "    datasetdir= f\"{maindir}/CWNdata/PT2_allchoice_encoded_dataset\"\n",
    "    encoded_dataset = datasets.load_from_disk(datasetdir)\n",
    "    numchoices = encoded_dataset['test']['numchoices']\n",
    "    def __call__(self, logits, labels):\n",
    "        # eval_batch_size = len(encoded_dataset['test'])\n",
    "        # 題號，labels(還原)，預測label \n",
    "        from collections import defaultdict \n",
    "        mapping, label_mapping, prediction_mapping = defaultdict(list),defaultdict(list), defaultdict(list)\n",
    "        curstart = 0\n",
    "        accu = defaultdict(int)\n",
    "        accdict = {}\n",
    "        for exid, nc in enumerate(self.numchoices):\n",
    "            label_id = labels[exid]\n",
    "            pred_id = np.argmax([logits[i] for i in range(curstart, curstart+nc)])\n",
    "            mapping[nc].append(exid) \n",
    "            label_mapping[nc].append(label_id)\n",
    "            prediction_mapping[nc].append(pred_id)\n",
    "            if label_id == pred_id: \n",
    "                accu[nc] += 1\n",
    "            # update \n",
    "            curstart = curstart+nc\n",
    "        cnt_numchoices = len(mapping) # 2\n",
    "        # print(f'* There are {cnt_numchoices} numchoices in the dataset.')\n",
    "        # return {'accuracy': (preds == label_ids).astype(np.float32).mean().item()}\n",
    "        for nc, nctotal in mapping.items():\n",
    "            accurates = accu[nc]\n",
    "            accdict[nc] = (accurates/len(nctotal))\n",
    "        accurates = sum(accu.values())\n",
    "        return accurates/len(self.numchoices), accdict"
   ]
  },
  {
   "cell_type": "code",
   "execution_count": 10,
   "id": "2d68e66f",
   "metadata": {},
   "outputs": [],
   "source": [
    "# class SchedulerType(ExplicitEnum):\n",
    "#     LINEAR = \"linear\"\n",
    "#     COSINE = \"cosine\"\n",
    "#     COSINE_WITH_RESTARTS = \"cosine_with_restarts\"\n",
    "#     POLYNOMIAL = \"polynomial\"\n",
    "#     CONSTANT = \"constant\"\n",
    "#     CONSTANT_WITH_WARMUP = \"constant_with_warmup\""
   ]
  },
  {
   "cell_type": "markdown",
   "id": "776f47cc-fe1d-4ebe-a17b-60a61007ec65",
   "metadata": {},
   "source": [
    "# Model Training"
   ]
  },
  {
   "cell_type": "markdown",
   "id": "1e6c6643-abd5-4f46-bbb2-e86496cc7449",
   "metadata": {},
   "source": [
    "## 🎲 Model hyperparameters"
   ]
  },
  {
   "cell_type": "code",
   "execution_count": 11,
   "id": "f3ba895d",
   "metadata": {},
   "outputs": [],
   "source": [
    "### hyperparams\n",
    "base_model = 'bert-base-chinese'\n",
    "batchsize = 4\n",
    "prompt_len = n_tokens = 12\n",
    "lr = 5e-4 # 5e-4\n",
    "scheduler_type = \"linear\"\n",
    "wd = 0.005 # best 0.005\n",
    "warmup_ratio = 0.1\n",
    "max_grad_norm = 1 # pytorch trainer default \n",
    "myseed = 1126   # best 1126\n",
    "epochs = 20     # best 20\n",
    "# accumulation_steps = 1 # pytorch trainer default \n",
    "###### task-specific stats ##### \n",
    "nclass = 19\n",
    "TESTSIZE = 0.2"
   ]
  },
  {
   "cell_type": "code",
   "execution_count": 12,
   "id": "0d6282b1",
   "metadata": {},
   "outputs": [],
   "source": [
    "from PromptTuningBERT_allchoice_v2 import BertPromptForMultipleChoice\n",
    "config = {\n",
    "    'n_tokens': prompt_len ,\n",
    "    'n_class': nclass,\n",
    "    'train_bert': False,\n",
    "    'to_debug': False,\n",
    "    'device': 'cuda'\n",
    "}"
   ]
  },
  {
   "cell_type": "code",
   "execution_count": 13,
   "id": "7444fb42",
   "metadata": {},
   "outputs": [],
   "source": [
    "'''seeding'''\n",
    "\n",
    "def set_seeds(seed):\n",
    "    torch.manual_seed(seed)\n",
    "    if torch.cuda.is_available():\n",
    "        torch.cuda.manual_seed(seed)\n",
    "        torch.cuda.manual_seed_all(seed)\n",
    "    np.random.seed(seed)\n",
    "    random.seed(seed)\n",
    "    torch.backends.cudnn.benchmark = False\n",
    "    torch.backends.cudnn.deterministic = True  \n",
    "# set_seeds(myseed)\n",
    "set_seed(myseed)"
   ]
  },
  {
   "cell_type": "code",
   "execution_count": 14,
   "id": "1947e222",
   "metadata": {},
   "outputs": [
    {
     "data": {
      "text/plain": [
       "'scheduler with warm up'"
      ]
     },
     "execution_count": 14,
     "metadata": {},
     "output_type": "execute_result"
    }
   ],
   "source": [
    "'''grad accum steps'''\n",
    "# https://gist.github.com/thomwolf/ac7a7da6b1888c2eeac8ac8b9b05d3d3\n",
    "'''trainer'''\n",
    "# https://github.com/huggingface/transformers/blob/main/src/transformers/trainer.py#L1453\n",
    "'''scheduler with warm up'''\n",
    "# https://github.com/huggingface/transformers/blob/198c335d219a5eb4d3f124fdd1ce1a9cd9f78a9b/src/transformers/optimization.py#L75"
   ]
  },
  {
   "cell_type": "markdown",
   "id": "bf2647a4-37e5-4707-86d3-000358e45a4d",
   "metadata": {},
   "source": [
    "```\n",
    "import wandb\n",
    "wandb.init(project='prompt_tuning_rp_v3', name = runname, \n",
    "           entity='nana2929', group=\"no trainer\")\n",
    "wandb.config.update({\n",
    "    'learning_rate':lr,\n",
    "    'batch_size':batchsize,\n",
    "    'weight_decay':wd,\n",
    "    'seed':myseed,\n",
    "    'n_tokens':n_tokens, \n",
    "    'epochs':epochs, \n",
    "    'scheduler': scheduler_type,  \n",
    "})\n",
    "\n",
    "```"
   ]
  },
  {
   "cell_type": "markdown",
   "id": "f16d9859",
   "metadata": {
    "tags": []
   },
   "source": [
    "## 🐣 Dummy Training Loop"
   ]
  },
  {
   "cell_type": "code",
   "execution_count": 15,
   "id": "a563c334-37ac-4c53-8e25-d36d1516a685",
   "metadata": {},
   "outputs": [],
   "source": [
    "#\n",
    "# prepare data loader\n",
    "#\n",
    "train_loader = DataLoader(encoded_dataset['train'], \n",
    "                    shuffle=True, \n",
    "                    collate_fn=DataCollatorForMultipleChoice(), \n",
    "                    batch_size=4)"
   ]
  },
  {
   "cell_type": "code",
   "execution_count": null,
   "id": "12d6e47c-10b9-4e70-89bc-91a33a12ac9f",
   "metadata": {},
   "outputs": [
    {
     "name": "stderr",
     "output_type": "stream",
     "text": [
      "Some weights of the model checkpoint at bert-base-chinese were not used when initializing BertPromptForMultipleChoice: ['cls.predictions.transform.LayerNorm.bias', 'cls.predictions.transform.LayerNorm.weight', 'cls.predictions.transform.dense.bias', 'cls.predictions.transform.dense.weight', 'cls.predictions.decoder.weight', 'cls.seq_relationship.weight', 'cls.predictions.bias', 'cls.seq_relationship.bias']\n",
      "- This IS expected if you are initializing BertPromptForMultipleChoice from the checkpoint of a model trained on another task or with another architecture (e.g. initializing a BertForSequenceClassification model from a BertForPreTraining model).\n",
      "- This IS NOT expected if you are initializing BertPromptForMultipleChoice from the checkpoint of a model that you expect to be exactly identical (initializing a BertForSequenceClassification model from a BertForSequenceClassification model).\n"
     ]
    }
   ],
   "source": [
    "# toy example \n",
    "model = BertPromptForMultipleChoice.from_pretrained(base_model, config)\n",
    "model = model.to('cuda')\n",
    "optimizer = optim.AdamW(model.parameters(), \n",
    "                        lr=3e-4, \n",
    "                        weight_decay = wd, # 有兩種weight decay方法\n",
    "                        eps = 1e-08) # 1e-08, training args default \n",
    "loss_mean = MeanMetric()\n",
    "loss_vec = []\n",
    "# use when debugging\n",
    "# from itertools import islice\n",
    "# train_batches = list(islice(train_loader, 0, 2))\n",
    "train_batches = train_loader\n",
    "\n",
    "for i in tqdm(range(16)):   # epochs = 10 \n",
    "    for batch in train_batches:\n",
    "        model.train()\n",
    "        batch = {k: batch[k].to('cuda') for k in batch}\n",
    "        optimizer.zero_grad()\n",
    "        out = model(**batch)\n",
    "        loss = out.loss\n",
    "        loss.backward()\n",
    "        optimizer.step()\n",
    "        loss_mean.update(loss.item())        \n",
    "    loss_vec.append(loss_mean.compute())\n",
    "    loss_mean.reset()\n",
    "   "
   ]
  },
  {
   "cell_type": "code",
   "execution_count": null,
   "id": "137172ec-f0da-460b-9a04-4ef4f6e850f0",
   "metadata": {},
   "outputs": [],
   "source": [
    "plt.plot(loss_vec) "
   ]
  },
  {
   "cell_type": "markdown",
   "id": "9542f6b1",
   "metadata": {
    "tags": []
   },
   "source": [
    "## 🍀 Manual Training Loop "
   ]
  },
  {
   "cell_type": "code",
   "execution_count": 19,
   "id": "f8658a38-4a8d-486c-8ccd-40c21fc10411",
   "metadata": {},
   "outputs": [],
   "source": [
    "#\n",
    "# Tuning hypers\n",
    "# --------------\n",
    "batchsize = 4\n",
    "epochs = 16\n",
    "lr = 3e-4"
   ]
  },
  {
   "cell_type": "code",
   "execution_count": 20,
   "id": "4c527ec4-80c6-43a3-b5d0-38f96ac16953",
   "metadata": {},
   "outputs": [],
   "source": [
    "#\n",
    "# prepare data loader\n",
    "#\n",
    "\n",
    "train_loader = DataLoader(encoded_dataset['train'], \n",
    "                    shuffle=True, \n",
    "                    collate_fn=DataCollatorForMultipleChoice(), \n",
    "                    batch_size=batchsize)\n",
    "eval_loader = DataLoader(encoded_dataset['test'], \n",
    "                    shuffle=False, \n",
    "                    collate_fn=DataCollatorForMultipleChoice(), \n",
    "                    batch_size=batchsize)"
   ]
  },
  {
   "cell_type": "code",
   "execution_count": 21,
   "id": "08581bd7",
   "metadata": {},
   "outputs": [
    {
     "name": "stdout",
     "output_type": "stream",
     "text": [
      "*\tName of the run: 0330-1323_RPBert_allc\n"
     ]
    }
   ],
   "source": [
    "#\n",
    "# creating model directory\n",
    "#\n",
    "from datetime import datetime\n",
    "import os\n",
    "\n",
    "now = datetime.now()\n",
    "timeprefix = now.strftime(\"%m%d-%H%M\")\n",
    "runname = f'{timeprefix}_RPBert_allc'\n",
    "\n",
    "model_dir = f'../data/runs_v2/{runname}'\n",
    "print('*\\tName of the run:', runname)\n",
    "os.makedirs(model_dir, exist_ok = True)"
   ]
  },
  {
   "cell_type": "code",
   "execution_count": 22,
   "id": "b4a9b156",
   "metadata": {},
   "outputs": [],
   "source": [
    "#print(scheduler)"
   ]
  },
  {
   "cell_type": "code",
   "execution_count": 29,
   "id": "9c555199",
   "metadata": {},
   "outputs": [
    {
     "name": "stderr",
     "output_type": "stream",
     "text": [
      "Some weights of the model checkpoint at bert-base-chinese were not used when initializing BertPromptForMultipleChoice: ['cls.seq_relationship.bias', 'cls.predictions.transform.dense.bias', 'cls.predictions.transform.LayerNorm.weight', 'cls.predictions.decoder.weight', 'cls.predictions.bias', 'cls.predictions.transform.LayerNorm.bias', 'cls.seq_relationship.weight', 'cls.predictions.transform.dense.weight']\n",
      "- This IS expected if you are initializing BertPromptForMultipleChoice from the checkpoint of a model trained on another task or with another architecture (e.g. initializing a BertForSequenceClassification model from a BertForPreTraining model).\n",
      "- This IS NOT expected if you are initializing BertPromptForMultipleChoice from the checkpoint of a model that you expect to be exactly identical (initializing a BertForSequenceClassification model from a BertForSequenceClassification model).\n",
      "Some weights of BertPromptForMultipleChoice were not initialized from the model checkpoint at bert-base-chinese and are newly initialized: ['embeddings.word_embeddings.weight', 'embeddings.LayerNorm.bias', 'embeddings.token_type_embeddings.weight', 'embeddings.LayerNorm.weight', 'classifier.weight', 'prefix_encoder.weight', 'embeddings.position_embeddings.weight', 'classifier.bias']\n",
      "You should probably TRAIN this model on a down-stream task to be able to use it for predictions and inference.\n"
     ]
    },
    {
     "name": "stdout",
     "output_type": "stream",
     "text": [
      "** total param is 175873\n",
      "** train bert? False\n",
      "train batch number: 123 \n",
      "eval batch number: 31\n"
     ]
    }
   ],
   "source": [
    "model = BertPromptForMultipleChoice.from_pretrained(base_model, config)\n",
    "model = model.to('cuda')\n",
    "\n",
    "## weight decay (in optimizer)\n",
    "## -----------------------------\n",
    "optimizer = optim.AdamW(model.parameters(), \n",
    "                        lr=lr, \n",
    "                        weight_decay = wd, # 有兩種weight decay方法\n",
    "                        eps = 1e-08) # 1e-08, training args default \n",
    "\n",
    "##  \n",
    "##  scheduler/warmup\n",
    "##  ------------------\n",
    "##  https://github.com/huggingface/transformers/blob/main/src/transformers/optimization.py#L233\n",
    "# num_warmup_steps = warmup_ratio * epochs * len(train_loader)\n",
    "# num_tr_steps = epochs * len(train_loader)\n",
    "# scheduler = get_scheduler(scheduler_type, optimizer, \n",
    "#                           num_warmup_steps = num_warmup_steps, \n",
    "#                           num_training_steps = num_tr_steps)\n",
    "n_train_batch, n_eval_batch = len(train_loader), len(eval_loader)\n",
    "print('train batch number:', n_train_batch, '\\neval batch number:', n_eval_batch)\n",
    "\n",
    "##\n",
    "## loss metric\n",
    "## ----------------\n",
    "train_loss_mean = MeanMetric()\n",
    "eval_loss_mean = MeanMetric()"
   ]
  },
  {
   "cell_type": "code",
   "execution_count": 30,
   "id": "a6770fc3",
   "metadata": {},
   "outputs": [
    {
     "data": {
      "application/vnd.jupyter.widget-view+json": {
       "model_id": "75ab8628e8b8480f86d0939ef6ad3a31",
       "version_major": 2,
       "version_minor": 0
      },
      "text/plain": [
       "  0%|          | 0/16 [00:00<?, ?it/s]"
      ]
     },
     "metadata": {},
     "output_type": "display_data"
    },
    {
     "name": "stdout",
     "output_type": "stream",
     "text": [
      "\tEval Acc: 0.4797\n",
      "* \tSaving model at eval accuracy: 0.4796747967479675.\n",
      "\tEval Acc: 0.5122\n",
      "* \tSaving model at eval accuracy: 0.5121951219512195.\n",
      "\tEval Acc: 0.5041\n",
      "\tEval Acc: 0.4634\n",
      "\tEval Acc: 0.4878\n",
      "\tEval Acc: 0.4878\n",
      "\tEval Acc: 0.5122\n",
      "\tEval Acc: 0.4634\n",
      "\tEval Acc: 0.4715\n",
      "\tEval Acc: 0.4878\n",
      "\tEval Acc: 0.4878\n",
      "\tEval Acc: 0.5203\n",
      "* \tSaving model at eval accuracy: 0.5203252032520326.\n",
      "\tEval Acc: 0.4715\n",
      "\tEval Acc: 0.4715\n",
      "\tEval Acc: 0.4715\n",
      "\tEval Acc: 0.4634\n"
     ]
    }
   ],
   "source": [
    "# *****************\n",
    "#    Train Loop\n",
    "# *****************\n",
    "\n",
    "loss_vec, eloss_vec = [], []\n",
    "best_eval_acc = 0 \n",
    "pbar = tqdm(range(epochs))\n",
    "for epoch in range(epochs):\n",
    "    # -----------------\n",
    "    #   Training\n",
    "    # -----------------\n",
    "    # model.train()   \n",
    "    for i, batch in enumerate(train_loader):  \n",
    "        optimizer.zero_grad()\n",
    "        batch = {k: batch[k].to('cuda') for k in batch}\n",
    "        out = model(**batch)\n",
    "        loss = out.loss\n",
    "        train_loss_mean.update(loss.item())\n",
    "        loss.backward()\n",
    "        optimizer.step()                \n",
    "        # scheduler.step() ## is the scheduler by-batch step or by-epoch step??\n",
    "    loss_vec.append(train_loss_mean.compute().item())\n",
    "    train_loss_mean.reset()\n",
    "   \n",
    "    \n",
    "    # -------------\n",
    "    #  Evaluating\n",
    "    # -------------    \n",
    "    # model.eval()\n",
    "    all_labels, all_logits = [], []\n",
    "    for i, batch in enumerate(eval_loader):\n",
    "        with torch.no_grad():\n",
    "            batch = {k: batch[k].to('cuda') for k in batch}\n",
    "            out = model(**batch)\n",
    "            loss = out.loss            \n",
    "            eval_loss_mean.update(loss.item())\n",
    "            logits = out.logits\n",
    "            labels = batch['labels'].cpu().detach().numpy()\n",
    "            logits = logits.cpu().detach().numpy()\n",
    "            all_labels.append(labels)\n",
    "            all_logits.append(logits)\n",
    "    \n",
    "    eloss_vec.append(eval_loss_mean.compute().item())      \n",
    "    eval_loss_mean.reset()\n",
    "\n",
    "            \n",
    "    #\n",
    "    # Computing metrics and logging\n",
    "    # ----------------------------------\n",
    "    pbar.update(1)\n",
    "    pbar.set_description(f\"Train/Eval Loss: {loss_vec[-1]:.2f}/{eloss_vec[-1]:.2f}\")\n",
    "    # pbar.set_description(f\"Train/Eval Loss: {loss_vec[-1]:.2f}/----\")\n",
    "    \n",
    "    # concatenating the logits    \n",
    "    all_labels = np.concatenate(all_labels, axis = None)\n",
    "    all_logits = np.concatenate(all_logits, axis = None)\n",
    "    eval_acc, eval_acc_dict = ComputeMetrics()(all_logits, all_labels)\n",
    "    print(f'\\tEval Acc: {eval_acc:.4f}')\n",
    "    if best_eval_acc < eval_acc:\n",
    "        print(f'* \\tSaving model at eval accuracy: {eval_acc}.')\n",
    "        # model.save_pretrained(model_dir)\n",
    "        best_eval_acc = eval_acc\n",
    "#     wandb.log({\n",
    "#             \"train loss\": tr_loss/n_train_batch,\n",
    "#             \"eval loss\": ev_loss/n_eval_batch,\n",
    "#             \"eval acc\": eval_acc,\n",
    "#         })\n",
    "    # for k, v in eval_acc_dict.items():\n",
    "    #     print(f'*\\tacc|numchoice = {k}: {v:.3f}') "
   ]
  },
  {
   "cell_type": "code",
   "execution_count": 31,
   "id": "4e5bdc8e",
   "metadata": {},
   "outputs": [
    {
     "data": {
      "text/plain": [
       "[<matplotlib.lines.Line2D at 0x7f4cb2d0fb50>]"
      ]
     },
     "execution_count": 31,
     "metadata": {},
     "output_type": "execute_result"
    },
    {
     "data": {
      "image/png": "[encoded data removed]",
      "text/plain": [
       "<Figure size 432x288 with 1 Axes>"
      ]
     },
     "metadata": {
      "needs_background": "light"
     },
     "output_type": "display_data"
    }
   ],
   "source": [
    "from matplotlib import pyplot as plt\n",
    "plt.plot(loss_vec)\n",
    "plt.plot(eloss_vec)"
   ]
  },
  {
   "cell_type": "markdown",
   "id": "e62deae6-92ac-4892-9a12-afb514d34a0a",
   "metadata": {},
   "source": [
    "## Observations"
   ]
  },
  {
   "cell_type": "code",
   "execution_count": null,
   "id": "1c8a337a",
   "metadata": {},
   "outputs": [],
   "source": [
    "# 1. model.train()和model.eval()竟然影響ㄌupdates <-沒設的時候一切正常，有設就沒法backward()??\n",
    "#                                                 感覺下降幅度變慢（15 epochs內只能0.71 -> 0.33，降0.2~0.3）\n",
    "#                                                 而且幅度抖動比較不穩定\n",
    "# 2. 加gradient accumulation steps（甚至只開1也有差），也是 15 epochs內只能0.71 -> 0.417\n",
    "# 3. labels=torch.tensor(labels, dtype=torch.float32).to(self._device)\n",
    "#    vs. sourceTensor.clone().detach()\n",
    "# 4. 加入gradient clipping (第二層for 迴圈內)直接爆掉，整個loss完全不會動\n",
    "# 5. 加scheduler下降幅度超級慢，15 epochs內只能0.75 -> 0.67\n",
    "# 最好的狀態大概是eval acc = 0.53，不加scheduler和grad-clipping"
   ]
  },
  {
   "cell_type": "code",
   "execution_count": null,
   "id": "e9324690",
   "metadata": {},
   "outputs": [],
   "source": [
    "'''gradient-clipping'''\n",
    "# if hasattr(optimizer, \"clip_grad_norm\"):\n",
    "#     # Some optimizers (like the sharded optimizer) have a specific way to do gradient clipping\n",
    "#     optimizer.clip_grad_norm(max_grad_norm)\n",
    "# elif hasattr(model, \"clip_grad_norm_\"):\n",
    "#     # Some models (like FullyShardedDDP) have a specific way to do gradient clipping\n",
    "#     model.clip_grad_norm_(max_grad_norm)\n",
    "# else: # fall back to normal torch utils\n",
    "#     nn.utils.clip_grad_norm_(\n",
    "#         model.parameters(),\n",
    "#         max_grad_norm,\n",
    "#     )"
   ]
  },
  {
   "cell_type": "markdown",
   "id": "f025291f",
   "metadata": {},
   "source": [
    "## To-add features"
   ]
  },
  {
   "cell_type": "code",
   "execution_count": null,
   "id": "0007f3a3",
   "metadata": {},
   "outputs": [],
   "source": []
  }
 ],
 "metadata": {
  "kernelspec": {
   "display_name": "Python 3 (ipykernel)",
   "language": "python",
   "name": "python3"
  },
  "language_info": {
   "codemirror_mode": {
    "name": "ipython",
    "version": 3
   },
   "file_extension": ".py",
   "mimetype": "text/x-python",
   "name": "python",
   "nbconvert_exporter": "python",
   "pygments_lexer": "ipython3",
   "version": "3.9.5"
  }
 },
 "nbformat": 4,
 "nbformat_minor": 5
}
