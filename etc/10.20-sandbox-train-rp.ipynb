{
 "cells": [
  {
   "cell_type": "markdown",
   "id": "1f8db403-c251-482c-ba9a-b0eb2a62c91a",
   "metadata": {},
   "source": [
    "## Environment Setup"
   ]
  },
  {
   "cell_type": "code",
   "execution_count": 1,
   "id": "5972485b-f909-4059-9bea-163d2d4ce7cd",
   "metadata": {},
   "outputs": [],
   "source": [
    "%load_ext autoreload\n",
    "%autoreload 2"
   ]
  },
  {
   "cell_type": "code",
   "execution_count": 2,
   "id": "bb2001b2-e4f4-4e2e-b7a0-610ba3fa5c11",
   "metadata": {},
   "outputs": [],
   "source": [
    "import sys\n",
    "if \"../src\" not in sys.path:\n",
    "    sys.path.append(\"../src\")"
   ]
  },
  {
   "cell_type": "code",
   "execution_count": 3,
   "id": "a5244018-05c1-4761-ad7b-f9d6b83ae3ba",
   "metadata": {},
   "outputs": [],
   "source": [
    "import pickle\n",
    "import random\n",
    "from datetime import datetime\n",
    "import numpy as np\n",
    "import torch\n",
    "import datasets\n",
    "from datasets import Dataset, load_metric\n",
    "from torch.utils.data import (DataLoader, RandomSampler, SequentialSampler)\n",
    "from transformers import AutoModelForMultipleChoice, BertTokenizerFast\n"
   ]
  },
  {
   "cell_type": "code",
   "execution_count": 4,
   "id": "934bc723-c3de-495c-b52f-57e6916a6153",
   "metadata": {},
   "outputs": [],
   "source": [
    "counter = 0\n",
    "SESS_NAME = datetime.now().strftime(\"%y%m%d%H%M\")\n",
    "datadir = \"../data\"\n",
    "modeldir = \"../data/models\"\n",
    "###########################\n",
    "datafile = f\"{datadir}/refined_dot_type_5.0.csv\"\n",
    "dataset_dir = f\"{datadir}/PT2_encoded_dataset\""
   ]
  },
  {
   "cell_type": "code",
   "execution_count": 5,
   "id": "70193523-4b3e-492e-b6ea-f4dfb39bb209",
   "metadata": {},
   "outputs": [
    {
     "data": {
      "text/plain": [
       "455"
      ]
     },
     "execution_count": 5,
     "metadata": {},
     "output_type": "execute_result"
    }
   ],
   "source": [
    "encoded_dataset = datasets.load_from_disk(dataset_dir)\n",
    "len(encoded_dataset[\"train\"])"
   ]
  },
  {
   "cell_type": "code",
   "execution_count": 6,
   "id": "ecf692c1-9c3f-49b9-91ec-b147b3ccfbc4",
   "metadata": {},
   "outputs": [
    {
     "data": {
      "text/html": [
       "<div>\n",
       "<style scoped>\n",
       "    .dataframe tbody tr th:only-of-type {\n",
       "        vertical-align: middle;\n",
       "    }\n",
       "\n",
       "    .dataframe tbody tr th {\n",
       "        vertical-align: top;\n",
       "    }\n",
       "\n",
       "    .dataframe thead th {\n",
       "        text-align: right;\n",
       "    }\n",
       "</style>\n",
       "<table border=\"1\" class=\"dataframe\">\n",
       "  <thead>\n",
       "    <tr style=\"text-align: right;\">\n",
       "      <th></th>\n",
       "      <th>type_class</th>\n",
       "      <th>eng word</th>\n",
       "      <th>word</th>\n",
       "      <th>pos</th>\n",
       "      <th>instance</th>\n",
       "      <th>src</th>\n",
       "      <th>dot_type_2</th>\n",
       "      <th>dot_type_1</th>\n",
       "      <th>label</th>\n",
       "      <th>zh_type_class</th>\n",
       "      <th>zh_dot_type</th>\n",
       "      <th>zh_dot_type_2</th>\n",
       "      <th>zh_dot_gloss</th>\n",
       "      <th>is_2choice</th>\n",
       "      <th>is_one_ans</th>\n",
       "      <th>class_selector</th>\n",
       "      <th>__index_level_0__</th>\n",
       "      <th>input_ids</th>\n",
       "      <th>token_type_ids</th>\n",
       "      <th>attention_mask</th>\n",
       "    </tr>\n",
       "  </thead>\n",
       "  <tbody>\n",
       "    <tr>\n",
       "      <th>0</th>\n",
       "      <td>event,human</td>\n",
       "      <td>appointment</td>\n",
       "      <td>個案</td>\n",
       "      <td>Na</td>\n",
       "      <td>這棟預售&lt;個案&gt;基地面積五百零八坪屬商三土地。</td>\n",
       "      <td>ASBC</td>\n",
       "      <td>event</td>\n",
       "      <td>event</td>\n",
       "      <td>0</td>\n",
       "      <td>事件,人類</td>\n",
       "      <td>事件</td>\n",
       "      <td>事件</td>\n",
       "      <td>事情、事項。</td>\n",
       "      <td>True</td>\n",
       "      <td>True</td>\n",
       "      <td>[[6], [8]]</td>\n",
       "      <td>251</td>\n",
       "      <td>[[101, 6857, 3477, 7521, 1545, 133, 943, 3428,...</td>\n",
       "      <td>[[0, 0, 0, 0, 0, 0, 0, 0, 0, 0, 0, 0, 0, 0, 0,...</td>\n",
       "      <td>[[1, 1, 1, 1, 1, 1, 1, 1, 1, 1, 1, 1, 1, 1, 1,...</td>\n",
       "    </tr>\n",
       "    <tr>\n",
       "      <th>1</th>\n",
       "      <td>act,proposition</td>\n",
       "      <td>allegation</td>\n",
       "      <td>宣稱</td>\n",
       "      <td>nom</td>\n",
       "      <td>在不能提供證據的前提下，我對他的&lt;宣稱&gt;感到懷疑。</td>\n",
       "      <td>CWN2</td>\n",
       "      <td>proposition</td>\n",
       "      <td>proposition</td>\n",
       "      <td>1</td>\n",
       "      <td>行為,命題</td>\n",
       "      <td>命題</td>\n",
       "      <td>命題</td>\n",
       "      <td>邏輯學上指表達判斷的語句。通常以直陳語句或假定句表達。</td>\n",
       "      <td>True</td>\n",
       "      <td>True</td>\n",
       "      <td>[[2], [9]]</td>\n",
       "      <td>33</td>\n",
       "      <td>[[101, 1762, 679, 5543, 2990, 897, 6349, 3087,...</td>\n",
       "      <td>[[0, 0, 0, 0, 0, 0, 0, 0, 0, 0, 0, 0, 0, 0, 0,...</td>\n",
       "      <td>[[1, 1, 1, 1, 1, 1, 1, 1, 1, 1, 1, 1, 1, 1, 1,...</td>\n",
       "    </tr>\n",
       "  </tbody>\n",
       "</table>\n",
       "</div>"
      ],
      "text/plain": [
       "        type_class     eng word word  pos                   instance   src  \\\n",
       "0      event,human  appointment   個案   Na    這棟預售<個案>基地面積五百零八坪屬商三土地。  ASBC   \n",
       "1  act,proposition   allegation   宣稱  nom  在不能提供證據的前提下，我對他的<宣稱>感到懷疑。  CWN2   \n",
       "\n",
       "    dot_type_2   dot_type_1  label zh_type_class zh_dot_type zh_dot_type_2  \\\n",
       "0        event        event      0         事件,人類          事件            事件   \n",
       "1  proposition  proposition      1         行為,命題          命題            命題   \n",
       "\n",
       "                  zh_dot_gloss  is_2choice  is_one_ans class_selector  \\\n",
       "0                       事情、事項。        True        True     [[6], [8]]   \n",
       "1  邏輯學上指表達判斷的語句。通常以直陳語句或假定句表達。        True        True     [[2], [9]]   \n",
       "\n",
       "   __index_level_0__                                          input_ids  \\\n",
       "0                251  [[101, 6857, 3477, 7521, 1545, 133, 943, 3428,...   \n",
       "1                 33  [[101, 1762, 679, 5543, 2990, 897, 6349, 3087,...   \n",
       "\n",
       "                                      token_type_ids  \\\n",
       "0  [[0, 0, 0, 0, 0, 0, 0, 0, 0, 0, 0, 0, 0, 0, 0,...   \n",
       "1  [[0, 0, 0, 0, 0, 0, 0, 0, 0, 0, 0, 0, 0, 0, 0,...   \n",
       "\n",
       "                                      attention_mask  \n",
       "0  [[1, 1, 1, 1, 1, 1, 1, 1, 1, 1, 1, 1, 1, 1, 1,...  \n",
       "1  [[1, 1, 1, 1, 1, 1, 1, 1, 1, 1, 1, 1, 1, 1, 1,...  "
      ]
     },
     "execution_count": 6,
     "metadata": {},
     "output_type": "execute_result"
    }
   ],
   "source": [
    "encoded_dataset[\"train\"].select([0,2]).to_pandas()"
   ]
  },
  {
   "cell_type": "markdown",
   "id": "7b3ef159-f3de-4d40-9071-c3e6521c410e",
   "metadata": {},
   "source": [
    "## Data preparation"
   ]
  },
  {
   "cell_type": "code",
   "execution_count": 7,
   "id": "2ff06092-a163-4db0-9b36-9911526da19b",
   "metadata": {},
   "outputs": [],
   "source": [
    "tokenizer = BertTokenizerFast.from_pretrained('bert-base-chinese')"
   ]
  },
  {
   "cell_type": "code",
   "execution_count": 8,
   "id": "75c24db8-e273-4768-a887-6d843cb47ad3",
   "metadata": {},
   "outputs": [],
   "source": [
    "from dataclasses import dataclass\n",
    "@dataclass\n",
    "class DataCollatorForMultipleChoice:\n",
    "    \"\"\"\n",
    "    Data collator that will dynamically pad the inputs for multiple choice received.\n",
    "    \"\"\"\n",
    "    tokenizer = tokenizer\n",
    "    padding, trunc = True, True\n",
    "    max_length =  None\n",
    "    pad_to_multiple_of = None\n",
    "    def __init__(self, device=torch.device(\"cpu\")):\n",
    "        self.device = device\n",
    "        \n",
    "    def __call__(self, features):\n",
    "        label_name = \"label\" if \"label\" in features[0].keys() else \"labels\"\n",
    "        pin_label = True if \"label\" in features[0].keys() else False\n",
    "        # print(\"pinned label?\", pin_label) # whether label column is correctly pinpointed \n",
    "        labels = [feature.pop(label_name) for feature in features]\n",
    "        seq_classes = [feature.pop('class_selector') for feature in features]\n",
    "        batch_size = len(features)\n",
    "        num_choices = len(features[0][\"input_ids\"])\n",
    "        accepted_keys = [\"input_ids\", \"attention_mask\", \"label\", \"token_type_ids\", 'class_selector']\n",
    "        flattened_features = [[{k: v[i] for k, v in feature.items() if k in accepted_keys} \n",
    "                               for i in range(num_choices)] for feature in features]        \n",
    "        flattened_features = sum(flattened_features, [])\n",
    "        \n",
    "        batch = self.tokenizer.pad(\n",
    "            flattened_features,\n",
    "            padding= \"longest\",\n",
    "            max_length= self.max_length,\n",
    "            pad_to_multiple_of=self.pad_to_multiple_of,\n",
    "            return_tensors=\"pt\",\n",
    "        )\n",
    "    \n",
    "        # filtering\n",
    "        # Un-flatten\n",
    "        batch = {k: v.view(batch_size, num_choices, -1) for k, v in batch.items() if k in accepted_keys}        \n",
    "    \n",
    "        # prompt selectors\n",
    "        batch[\"class_selector\"] = torch.tensor(seq_classes)\n",
    "        batch[\"labels\"] = torch.tensor(labels, dtype=torch.int64)\n",
    "          \n",
    "        batch = {k: v.to(self.device) for k, v in batch.items()}\n",
    "        return batch"
   ]
  },
  {
   "cell_type": "code",
   "execution_count": 9,
   "id": "458e8745-7afe-47aa-9036-1f40be4b2b75",
   "metadata": {},
   "outputs": [
    {
     "data": {
      "text/plain": [
       "[('input_ids', torch.Size([2, 2, 33])),\n",
       " ('token_type_ids', torch.Size([2, 2, 33])),\n",
       " ('attention_mask', torch.Size([2, 2, 33])),\n",
       " ('class_selector', torch.Size([2, 2, 1])),\n",
       " ('labels', torch.Size([2]))]"
      ]
     },
     "execution_count": 9,
     "metadata": {},
     "output_type": "execute_result"
    }
   ],
   "source": [
    "features = [{k: v for k, v in encoded_dataset[\"train\"][i].items()} for i in range(2)]\n",
    "batch = DataCollatorForMultipleChoice()(features)\n",
    "[(k, v.shape) for k, v in batch.items()]"
   ]
  },
  {
   "cell_type": "markdown",
   "id": "8d66c93f-d7e5-4762-ae5f-1ac7c8a93702",
   "metadata": {},
   "source": [
    "## Setting up RP model"
   ]
  },
  {
   "cell_type": "code",
   "execution_count": 10,
   "id": "6518ed99-9304-4479-a8c7-d09c2dfd6a11",
   "metadata": {},
   "outputs": [],
   "source": [
    "import torch\n",
    "import torch.nn\n",
    "import torch.optim as optim\n",
    "from torch.nn import CrossEntropyLoss\n",
    "from transformers import BertModel, BertPreTrainedModel\n",
    "from transformers.modeling_outputs import MultipleChoiceModelOutput\n",
    "\n",
    "from pt_multiple_choice import BertPromptForMultipleChoice"
   ]
  },
  {
   "cell_type": "code",
   "execution_count": 11,
   "id": "ae8b663d-9b07-4f3e-93fe-332d750d579b",
   "metadata": {},
   "outputs": [],
   "source": [
    "train_dataset = encoded_dataset['train']\n",
    "metric = datasets.load_metric(\"accuracy\")"
   ]
  },
  {
   "cell_type": "code",
   "execution_count": 12,
   "id": "51e8ded3-25e8-42cb-bab3-af5eea922539",
   "metadata": {},
   "outputs": [
    {
     "data": {
      "text/plain": [
       "{'input_ids': tensor([[[ 101, 6857, 3477, 7521, 1545,  133,  943, 3428,  135, 1825],\n",
       "          [ 101, 6857, 3477, 7521, 1545,  133,  943, 3428,  135, 1825]],\n",
       " \n",
       "         [[ 101, 2113, 4242, 2013,  791, 2399, 8031, 3299,  819, 5647],\n",
       "          [ 101, 2113, 4242, 2013,  791, 2399, 8031, 3299,  819, 5647]]]),\n",
       " 'token_type_ids': tensor([[[0, 0, 0, 0, 0, 0, 0, 0, 0, 0],\n",
       "          [0, 0, 0, 0, 0, 0, 0, 0, 0, 0]],\n",
       " \n",
       "         [[0, 0, 0, 0, 0, 0, 0, 0, 0, 0],\n",
       "          [0, 0, 0, 0, 0, 0, 0, 0, 0, 0]]]),\n",
       " 'attention_mask': tensor([[[1, 1, 1, 1, 1, 1, 1, 1, 1, 1],\n",
       "          [1, 1, 1, 1, 1, 1, 1, 1, 1, 1]],\n",
       " \n",
       "         [[1, 1, 1, 1, 1, 1, 1, 1, 1, 1],\n",
       "          [1, 1, 1, 1, 1, 1, 1, 1, 1, 1]]]),\n",
       " 'class_selector': tensor([[[6],\n",
       "          [8]],\n",
       " \n",
       "         [[6],\n",
       "          [3]]]),\n",
       " 'labels': tensor([0, 0])}"
      ]
     },
     "execution_count": 12,
     "metadata": {},
     "output_type": "execute_result"
    }
   ],
   "source": [
    "{k: v[...,:10] for k, v in batch.items()}"
   ]
  },
  {
   "cell_type": "code",
   "execution_count": 13,
   "id": "3e8f3485-8fc2-4917-b96e-b582ed6c34b3",
   "metadata": {},
   "outputs": [],
   "source": [
    "# -- model params --\n",
    "model_name = 'prompt-tuning-v2'\n",
    "numchoices = 2\n",
    "# -- training hypers --\n",
    "batchsize = 6\n",
    "lr = 2e-5\n",
    "epochs = 1\n",
    "wd = 0.005\n",
    "warmup_ratio = 0.1\n",
    "myseed = 1126"
   ]
  },
  {
   "cell_type": "markdown",
   "id": "accd3b79-72d8-4149-a600-2a8b321a16e0",
   "metadata": {},
   "source": [
    "## Manual training loop"
   ]
  },
  {
   "cell_type": "code",
   "execution_count": 14,
   "id": "b1de0c03-2eb8-4a69-aece-25570616f50a",
   "metadata": {},
   "outputs": [],
   "source": [
    "from itertools import islice\n",
    "from torch.utils.tensorboard import SummaryWriter"
   ]
  },
  {
   "cell_type": "code",
   "execution_count": 15,
   "id": "1becf183-0db5-4217-89ab-8f4c72259e86",
   "metadata": {},
   "outputs": [
    {
     "name": "stderr",
     "output_type": "stream",
     "text": [
      "Some weights of the model checkpoint at bert-base-chinese were not used when initializing BertPromptForMultipleChoice: ['cls.seq_relationship.weight', 'cls.predictions.bias', 'cls.predictions.transform.dense.weight', 'cls.predictions.transform.LayerNorm.bias', 'cls.predictions.decoder.weight', 'cls.seq_relationship.bias', 'cls.predictions.transform.dense.bias', 'cls.predictions.transform.LayerNorm.weight']\n",
      "- This IS expected if you are initializing BertPromptForMultipleChoice from the checkpoint of a model trained on another task or with another architecture (e.g. initializing a BertForSequenceClassification model from a BertForPreTraining model).\n",
      "- This IS NOT expected if you are initializing BertPromptForMultipleChoice from the checkpoint of a model that you expect to be exactly identical (initializing a BertForSequenceClassification model from a BertForSequenceClassification model).\n",
      "Some weights of BertPromptForMultipleChoice were not initialized from the model checkpoint at bert-base-chinese and are newly initialized: ['prefix_encoder.weight', 'classifier.weight', 'embeddings.token_type_embeddings.weight', 'classifier.bias', 'embeddings.LayerNorm.bias', 'embeddings.position_embeddings.weight', 'embeddings.word_embeddings.weight', 'embeddings.LayerNorm.weight']\n",
      "You should probably TRAIN this model on a down-stream task to be able to use it for predictions and inference.\n"
     ]
    },
    {
     "name": "stdout",
     "output_type": "stream",
     "text": [
      "** total param is 29953\n",
      "** train bert? False\n"
     ]
    }
   ],
   "source": [
    "batch_size = 6\n",
    "lr = 1e-4\n",
    "n_tokens = 2\n",
    "config = {\n",
    "    'n_tokens': n_tokens,\n",
    "    'n_class':19,\n",
    "    'numchoices':2,\n",
    "    'train_bert': False\n",
    "}\n",
    "counter += 1\n",
    "writer = SummaryWriter(f\"../data/tblogs/run_{SESS_NAME}_{counter}\")\n",
    "writer.add_hparams(dict(batch_size=batch_size, lr=lr, n_tokens=n_tokens), {})\n",
    "model = BertPromptForMultipleChoice.from_pretrained('bert-base-chinese', config).to(\"cuda\")\n",
    "optimizer = optim.AdamW(model.parameters(), lr=lr)\n",
    "loader = DataLoader(train_dataset, shuffle=False, collate_fn=DataCollatorForMultipleChoice(\"cuda\"), batch_size=batch_size)"
   ]
  },
  {
   "cell_type": "code",
   "execution_count": 16,
   "id": "338a83dc-2a51-40f5-befb-105cd8e646fe",
   "metadata": {},
   "outputs": [],
   "source": [
    "batches = list(islice(loader, 2))"
   ]
  },
  {
   "cell_type": "code",
   "execution_count": 17,
   "id": "16bc49d5-0f96-4674-9a81-4f07077277c6",
   "metadata": {},
   "outputs": [
    {
     "data": {
      "text/plain": [
       "[{'input_ids': torch.Size([6, 2, 57]),\n",
       "  'token_type_ids': torch.Size([6, 2, 57]),\n",
       "  'attention_mask': torch.Size([6, 2, 57]),\n",
       "  'class_selector': torch.Size([6, 2, 1]),\n",
       "  'labels': torch.Size([6])},\n",
       " {'input_ids': torch.Size([6, 2, 69]),\n",
       "  'token_type_ids': torch.Size([6, 2, 69]),\n",
       "  'attention_mask': torch.Size([6, 2, 69]),\n",
       "  'class_selector': torch.Size([6, 2, 1]),\n",
       "  'labels': torch.Size([6])}]"
      ]
     },
     "execution_count": 17,
     "metadata": {},
     "output_type": "execute_result"
    }
   ],
   "source": [
    "[{k: v.shape for k,v in batch.items()} for batch in batches]"
   ]
  },
  {
   "cell_type": "code",
   "execution_count": 18,
   "id": "44df1c81-97fc-4471-bf23-a5ffd18ff046",
   "metadata": {},
   "outputs": [
    {
     "name": "stdout",
     "output_type": "stream",
     "text": [
      "../data/tblogs/run_2203120931_1\n"
     ]
    }
   ],
   "source": [
    "print(writer.log_dir)"
   ]
  },
  {
   "cell_type": "code",
   "execution_count": 19,
   "id": "15755c26-52fe-4fa2-af8a-82910bb1a96d",
   "metadata": {},
   "outputs": [
    {
     "data": {
      "application/vnd.jupyter.widget-view+json": {
       "model_id": "98bd762820374437866b5ff02ae7274f",
       "version_major": 2,
       "version_minor": 0
      },
      "text/plain": [
       "  0%|          | 0/100 [00:00<?, ?it/s]"
      ]
     },
     "metadata": {},
     "output_type": "display_data"
    }
   ],
   "source": [
    "loss_vec = []\n",
    "from tqdm.auto import tqdm\n",
    "step_i = 0\n",
    "for _ in tqdm(range(100)):\n",
    "    for batch in batches:        \n",
    "        optimizer.zero_grad()\n",
    "        out = model(**batch)\n",
    "        loss = out.loss\n",
    "        loss.backward()\n",
    "        optimizer.step()\n",
    "        loss_vec.append(loss.item())\n",
    "        writer.add_scalar(\"Loss/train\", loss.item(), step_i)      \n",
    "        step_i += 1"
   ]
  },
  {
   "cell_type": "code",
   "execution_count": 20,
   "id": "b26ab933-dbfe-4faa-86ff-e5f64bd27932",
   "metadata": {},
   "outputs": [
    {
     "data": {
      "text/plain": [
       "[<matplotlib.lines.Line2D at 0x7f0ebb25ea00>]"
      ]
     },
     "execution_count": 20,
     "metadata": {},
     "output_type": "execute_result"
    },
    {
     "data": {
      "image/png": "[encoded data removed]",
      "text/plain": [
       "<Figure size 432x288 with 1 Axes>"
      ]
     },
     "metadata": {
      "needs_background": "light"
     },
     "output_type": "display_data"
    }
   ],
   "source": [
    "from matplotlib import pyplot as plt\n",
    "plt.plot(loss_vec)"
   ]
  },
  {
   "cell_type": "code",
   "execution_count": 21,
   "id": "6af35693-9651-4d62-bcd9-f7ea8eb66af2",
   "metadata": {},
   "outputs": [
    {
     "name": "stdout",
     "output_type": "stream",
     "text": [
      "word_embeddings.weight False\n",
      "position_embeddings.weight False\n",
      "token_type_embeddings.weight False\n",
      "LayerNorm.weight False\n",
      "LayerNorm.bias False\n"
     ]
    }
   ],
   "source": [
    "for param_name, param in model.bert.embeddings.named_parameters():\n",
    "    print(param_name, param.requires_grad)"
   ]
  },
  {
   "cell_type": "markdown",
   "id": "d3646cae-11bb-4ed8-b86e-945fdeed1937",
   "metadata": {},
   "source": [
    "## With 🤗 Trainer"
   ]
  },
  {
   "cell_type": "code",
   "execution_count": 33,
   "id": "58f1ea84-7554-43c3-a966-3002880e2710",
   "metadata": {},
   "outputs": [],
   "source": [
    "def compute_metrics(eval_predictions):\n",
    "    predictions, label_ids = eval_predictions\n",
    "    preds = np.argmax(predictions, axis=1)\n",
    "    return {'accuracy': (preds == label_ids).astype(np.float32).mean().item()}"
   ]
  },
  {
   "cell_type": "code",
   "execution_count": 36,
   "id": "cf3ca613-e1d4-4036-b1e7-1ad6ca77e9f8",
   "metadata": {},
   "outputs": [
    {
     "name": "stderr",
     "output_type": "stream",
     "text": [
      "PyTorch: setting up devices\n"
     ]
    }
   ],
   "source": [
    "epochs = 20\n",
    "batchsize = 6\n",
    "lr = 5e-4\n",
    "n_tokens = 12\n",
    "scheduler_type = \"linear\"\n",
    "wd = 0.005\n",
    "warmup_ratio = 0.1\n",
    "\n",
    "config = {\n",
    "    'n_tokens': n_tokens,\n",
    "    'n_class':19,\n",
    "    'numchoices':2,\n",
    "    'train_bert': False\n",
    "}\n",
    "\n",
    "from transformers import TrainingArguments, Trainer\n",
    "args = TrainingArguments(\n",
    "    model_name, \n",
    "    learning_rate=lr,\n",
    "    per_device_train_batch_size=batchsize,\n",
    "    per_device_eval_batch_size=batchsize,\n",
    "    num_train_epochs=epochs,\n",
    "    gradient_accumulation_steps=1, \n",
    "    weight_decay=wd,\n",
    "    warmup_ratio = warmup_ratio,\n",
    "    lr_scheduler_type=scheduler_type,\n",
    "    logging_strategy=\"epoch\",\n",
    "    evaluation_strategy = \"epoch\",\n",
    "    save_strategy = \"epoch\",\n",
    "    report_to=\"tensorboard\",\n",
    "    load_best_model_at_end=True,\n",
    "    metric_for_best_model=\"eval_accuracy\",\n",
    "    seed = myseed\n",
    ")"
   ]
  },
  {
   "cell_type": "code",
   "execution_count": 37,
   "id": "1a9bdb8b-0fc9-471b-8408-aae1b3f10303",
   "metadata": {},
   "outputs": [
    {
     "name": "stderr",
     "output_type": "stream",
     "text": [
      "loading configuration file https://huggingface.co/bert-base-chinese/resolve/main/config.json from cache at /home/seantyh/.cache/huggingface/transformers/6cc404ca8136bc87bae0fb24f2259904943d776a6c5ddc26598bbdc319476f42.0f9bcd8314d841c06633e7b92b04509f1802c16796ee67b0f1177065739e24ae\n",
      "Model config BertConfig {\n",
      "  \"architectures\": [\n",
      "    \"BertForMaskedLM\"\n",
      "  ],\n",
      "  \"attention_probs_dropout_prob\": 0.1,\n",
      "  \"classifier_dropout\": null,\n",
      "  \"directionality\": \"bidi\",\n",
      "  \"hidden_act\": \"gelu\",\n",
      "  \"hidden_dropout_prob\": 0.1,\n",
      "  \"hidden_size\": 768,\n",
      "  \"initializer_range\": 0.02,\n",
      "  \"intermediate_size\": 3072,\n",
      "  \"layer_norm_eps\": 1e-12,\n",
      "  \"max_position_embeddings\": 512,\n",
      "  \"model_type\": \"bert\",\n",
      "  \"num_attention_heads\": 12,\n",
      "  \"num_hidden_layers\": 12,\n",
      "  \"pad_token_id\": 0,\n",
      "  \"pooler_fc_size\": 768,\n",
      "  \"pooler_num_attention_heads\": 12,\n",
      "  \"pooler_num_fc_layers\": 3,\n",
      "  \"pooler_size_per_head\": 128,\n",
      "  \"pooler_type\": \"first_token_transform\",\n",
      "  \"position_embedding_type\": \"absolute\",\n",
      "  \"transformers_version\": \"4.15.0\",\n",
      "  \"type_vocab_size\": 2,\n",
      "  \"use_cache\": true,\n",
      "  \"vocab_size\": 21128\n",
      "}\n",
      "\n",
      "loading weights file https://huggingface.co/bert-base-chinese/resolve/main/pytorch_model.bin from cache at /home/seantyh/.cache/huggingface/transformers/58592490276d9ed1e8e33f3c12caf23000c22973cb2b3218c641bd74547a1889.fabda197bfe5d6a318c2833172d6757ccc7e49f692cb949a6fabf560cee81508\n",
      "Some weights of the model checkpoint at bert-base-chinese were not used when initializing BertPromptForMultipleChoice: ['cls.seq_relationship.weight', 'cls.predictions.bias', 'cls.predictions.transform.dense.weight', 'cls.predictions.transform.LayerNorm.bias', 'cls.predictions.decoder.weight', 'cls.seq_relationship.bias', 'cls.predictions.transform.dense.bias', 'cls.predictions.transform.LayerNorm.weight']\n",
      "- This IS expected if you are initializing BertPromptForMultipleChoice from the checkpoint of a model trained on another task or with another architecture (e.g. initializing a BertForSequenceClassification model from a BertForPreTraining model).\n",
      "- This IS NOT expected if you are initializing BertPromptForMultipleChoice from the checkpoint of a model that you expect to be exactly identical (initializing a BertForSequenceClassification model from a BertForSequenceClassification model).\n",
      "Some weights of BertPromptForMultipleChoice were not initialized from the model checkpoint at bert-base-chinese and are newly initialized: ['prefix_encoder.weight', 'classifier.weight', 'embeddings.token_type_embeddings.weight', 'classifier.bias', 'embeddings.LayerNorm.bias', 'embeddings.position_embeddings.weight', 'embeddings.word_embeddings.weight', 'embeddings.LayerNorm.weight']\n",
      "You should probably TRAIN this model on a down-stream task to be able to use it for predictions and inference.\n"
     ]
    },
    {
     "name": "stdout",
     "output_type": "stream",
     "text": [
      "** total param is 175873\n",
      "** train bert? False\n"
     ]
    }
   ],
   "source": [
    "\n",
    "model = BertPromptForMultipleChoice.from_pretrained('bert-base-chinese', config).to(\"cuda\")\n",
    "trainer = Trainer(\n",
    "    model,\n",
    "    args,\n",
    "    train_dataset=encoded_dataset[\"train\"],\n",
    "    eval_dataset=encoded_dataset[\"test\"],\n",
    "    tokenizer=tokenizer,\n",
    "    data_collator=DataCollatorForMultipleChoice(),\n",
    "    compute_metrics=compute_metrics,\n",
    ")"
   ]
  },
  {
   "cell_type": "code",
   "execution_count": 38,
   "id": "657a0bb4-264c-4868-ae29-0187f529c853",
   "metadata": {},
   "outputs": [
    {
     "name": "stderr",
     "output_type": "stream",
     "text": [
      "The following columns in the training set  don't have a corresponding argument in `BertPromptForMultipleChoice.forward` and have been ignored: is_2choice, src, word, instance, zh_dot_type, dot_type_2, eng word, zh_dot_gloss, zh_type_class, type_class, zh_dot_type_2, is_one_ans, pos, __index_level_0__, dot_type_1.\n",
      "***** Running training *****\n",
      "  Num examples = 455\n",
      "  Num Epochs = 20\n",
      "  Instantaneous batch size per device = 6\n",
      "  Total train batch size (w. parallel, distributed & accumulation) = 6\n",
      "  Gradient Accumulation steps = 1\n",
      "  Total optimization steps = 1520\n"
     ]
    },
    {
     "data": {
      "text/html": [
       "\n",
       "    <div>\n",
       "      \n",
       "      <progress value='1520' max='1520' style='width:300px; height:20px; vertical-align: middle;'></progress>\n",
       "      [1520/1520 00:47, Epoch 20/20]\n",
       "    </div>\n",
       "    <table border=\"1\" class=\"dataframe\">\n",
       "  <thead>\n",
       "    <tr style=\"text-align: left;\">\n",
       "      <th>Epoch</th>\n",
       "      <th>Training Loss</th>\n",
       "      <th>Validation Loss</th>\n",
       "      <th>Accuracy</th>\n",
       "    </tr>\n",
       "  </thead>\n",
       "  <tbody>\n",
       "    <tr>\n",
       "      <td>1</td>\n",
       "      <td>0.721200</td>\n",
       "      <td>0.700884</td>\n",
       "      <td>0.517544</td>\n",
       "    </tr>\n",
       "    <tr>\n",
       "      <td>2</td>\n",
       "      <td>0.697700</td>\n",
       "      <td>0.689502</td>\n",
       "      <td>0.587719</td>\n",
       "    </tr>\n",
       "    <tr>\n",
       "      <td>3</td>\n",
       "      <td>0.684800</td>\n",
       "      <td>0.756923</td>\n",
       "      <td>0.482456</td>\n",
       "    </tr>\n",
       "    <tr>\n",
       "      <td>4</td>\n",
       "      <td>0.664400</td>\n",
       "      <td>0.736348</td>\n",
       "      <td>0.552632</td>\n",
       "    </tr>\n",
       "    <tr>\n",
       "      <td>5</td>\n",
       "      <td>0.646300</td>\n",
       "      <td>0.757984</td>\n",
       "      <td>0.587719</td>\n",
       "    </tr>\n",
       "    <tr>\n",
       "      <td>6</td>\n",
       "      <td>0.607000</td>\n",
       "      <td>0.681908</td>\n",
       "      <td>0.578947</td>\n",
       "    </tr>\n",
       "    <tr>\n",
       "      <td>7</td>\n",
       "      <td>0.620100</td>\n",
       "      <td>0.762686</td>\n",
       "      <td>0.552632</td>\n",
       "    </tr>\n",
       "    <tr>\n",
       "      <td>8</td>\n",
       "      <td>0.605500</td>\n",
       "      <td>0.714317</td>\n",
       "      <td>0.614035</td>\n",
       "    </tr>\n",
       "    <tr>\n",
       "      <td>9</td>\n",
       "      <td>0.576300</td>\n",
       "      <td>0.738288</td>\n",
       "      <td>0.587719</td>\n",
       "    </tr>\n",
       "    <tr>\n",
       "      <td>10</td>\n",
       "      <td>0.561200</td>\n",
       "      <td>0.671184</td>\n",
       "      <td>0.666667</td>\n",
       "    </tr>\n",
       "    <tr>\n",
       "      <td>11</td>\n",
       "      <td>0.554900</td>\n",
       "      <td>0.721937</td>\n",
       "      <td>0.622807</td>\n",
       "    </tr>\n",
       "    <tr>\n",
       "      <td>12</td>\n",
       "      <td>0.526400</td>\n",
       "      <td>0.672819</td>\n",
       "      <td>0.675439</td>\n",
       "    </tr>\n",
       "    <tr>\n",
       "      <td>13</td>\n",
       "      <td>0.512100</td>\n",
       "      <td>0.722946</td>\n",
       "      <td>0.675439</td>\n",
       "    </tr>\n",
       "    <tr>\n",
       "      <td>14</td>\n",
       "      <td>0.475900</td>\n",
       "      <td>0.678874</td>\n",
       "      <td>0.640351</td>\n",
       "    </tr>\n",
       "    <tr>\n",
       "      <td>15</td>\n",
       "      <td>0.456900</td>\n",
       "      <td>0.737730</td>\n",
       "      <td>0.684211</td>\n",
       "    </tr>\n",
       "    <tr>\n",
       "      <td>16</td>\n",
       "      <td>0.450300</td>\n",
       "      <td>0.747955</td>\n",
       "      <td>0.684211</td>\n",
       "    </tr>\n",
       "    <tr>\n",
       "      <td>17</td>\n",
       "      <td>0.404700</td>\n",
       "      <td>0.765114</td>\n",
       "      <td>0.701754</td>\n",
       "    </tr>\n",
       "    <tr>\n",
       "      <td>18</td>\n",
       "      <td>0.381200</td>\n",
       "      <td>0.789948</td>\n",
       "      <td>0.719298</td>\n",
       "    </tr>\n",
       "    <tr>\n",
       "      <td>19</td>\n",
       "      <td>0.406000</td>\n",
       "      <td>0.777960</td>\n",
       "      <td>0.719298</td>\n",
       "    </tr>\n",
       "    <tr>\n",
       "      <td>20</td>\n",
       "      <td>0.392400</td>\n",
       "      <td>0.786845</td>\n",
       "      <td>0.701754</td>\n",
       "    </tr>\n",
       "  </tbody>\n",
       "</table><p>"
      ],
      "text/plain": [
       "<IPython.core.display.HTML object>"
      ]
     },
     "metadata": {},
     "output_type": "display_data"
    },
    {
     "name": "stderr",
     "output_type": "stream",
     "text": [
      "The following columns in the evaluation set  don't have a corresponding argument in `BertPromptForMultipleChoice.forward` and have been ignored: is_2choice, src, word, instance, zh_dot_type, dot_type_2, eng word, zh_dot_gloss, zh_type_class, type_class, zh_dot_type_2, is_one_ans, pos, __index_level_0__, dot_type_1.\n",
      "***** Running Evaluation *****\n",
      "  Num examples = 114\n",
      "  Batch size = 6\n",
      "Saving model checkpoint to prompt-tuning-v2/checkpoint-76\n",
      "Configuration saved in prompt-tuning-v2/checkpoint-76/config.json\n",
      "Model weights saved in prompt-tuning-v2/checkpoint-76/pytorch_model.bin\n",
      "tokenizer config file saved in prompt-tuning-v2/checkpoint-76/tokenizer_config.json\n",
      "Special tokens file saved in prompt-tuning-v2/checkpoint-76/special_tokens_map.json\n",
      "The following columns in the evaluation set  don't have a corresponding argument in `BertPromptForMultipleChoice.forward` and have been ignored: is_2choice, src, word, instance, zh_dot_type, dot_type_2, eng word, zh_dot_gloss, zh_type_class, type_class, zh_dot_type_2, is_one_ans, pos, __index_level_0__, dot_type_1.\n",
      "***** Running Evaluation *****\n",
      "  Num examples = 114\n",
      "  Batch size = 6\n",
      "Saving model checkpoint to prompt-tuning-v2/checkpoint-152\n",
      "Configuration saved in prompt-tuning-v2/checkpoint-152/config.json\n",
      "Model weights saved in prompt-tuning-v2/checkpoint-152/pytorch_model.bin\n",
      "tokenizer config file saved in prompt-tuning-v2/checkpoint-152/tokenizer_config.json\n",
      "Special tokens file saved in prompt-tuning-v2/checkpoint-152/special_tokens_map.json\n",
      "The following columns in the evaluation set  don't have a corresponding argument in `BertPromptForMultipleChoice.forward` and have been ignored: is_2choice, src, word, instance, zh_dot_type, dot_type_2, eng word, zh_dot_gloss, zh_type_class, type_class, zh_dot_type_2, is_one_ans, pos, __index_level_0__, dot_type_1.\n",
      "***** Running Evaluation *****\n",
      "  Num examples = 114\n",
      "  Batch size = 6\n",
      "Saving model checkpoint to prompt-tuning-v2/checkpoint-228\n",
      "Configuration saved in prompt-tuning-v2/checkpoint-228/config.json\n",
      "Model weights saved in prompt-tuning-v2/checkpoint-228/pytorch_model.bin\n",
      "tokenizer config file saved in prompt-tuning-v2/checkpoint-228/tokenizer_config.json\n",
      "Special tokens file saved in prompt-tuning-v2/checkpoint-228/special_tokens_map.json\n",
      "The following columns in the evaluation set  don't have a corresponding argument in `BertPromptForMultipleChoice.forward` and have been ignored: is_2choice, src, word, instance, zh_dot_type, dot_type_2, eng word, zh_dot_gloss, zh_type_class, type_class, zh_dot_type_2, is_one_ans, pos, __index_level_0__, dot_type_1.\n",
      "***** Running Evaluation *****\n",
      "  Num examples = 114\n",
      "  Batch size = 6\n",
      "Saving model checkpoint to prompt-tuning-v2/checkpoint-304\n",
      "Configuration saved in prompt-tuning-v2/checkpoint-304/config.json\n",
      "Model weights saved in prompt-tuning-v2/checkpoint-304/pytorch_model.bin\n",
      "tokenizer config file saved in prompt-tuning-v2/checkpoint-304/tokenizer_config.json\n",
      "Special tokens file saved in prompt-tuning-v2/checkpoint-304/special_tokens_map.json\n",
      "The following columns in the evaluation set  don't have a corresponding argument in `BertPromptForMultipleChoice.forward` and have been ignored: is_2choice, src, word, instance, zh_dot_type, dot_type_2, eng word, zh_dot_gloss, zh_type_class, type_class, zh_dot_type_2, is_one_ans, pos, __index_level_0__, dot_type_1.\n",
      "***** Running Evaluation *****\n",
      "  Num examples = 114\n",
      "  Batch size = 6\n",
      "Saving model checkpoint to prompt-tuning-v2/checkpoint-380\n",
      "Configuration saved in prompt-tuning-v2/checkpoint-380/config.json\n",
      "Model weights saved in prompt-tuning-v2/checkpoint-380/pytorch_model.bin\n",
      "tokenizer config file saved in prompt-tuning-v2/checkpoint-380/tokenizer_config.json\n",
      "Special tokens file saved in prompt-tuning-v2/checkpoint-380/special_tokens_map.json\n",
      "The following columns in the evaluation set  don't have a corresponding argument in `BertPromptForMultipleChoice.forward` and have been ignored: is_2choice, src, word, instance, zh_dot_type, dot_type_2, eng word, zh_dot_gloss, zh_type_class, type_class, zh_dot_type_2, is_one_ans, pos, __index_level_0__, dot_type_1.\n",
      "***** Running Evaluation *****\n",
      "  Num examples = 114\n",
      "  Batch size = 6\n",
      "Saving model checkpoint to prompt-tuning-v2/checkpoint-456\n",
      "Configuration saved in prompt-tuning-v2/checkpoint-456/config.json\n",
      "Model weights saved in prompt-tuning-v2/checkpoint-456/pytorch_model.bin\n",
      "tokenizer config file saved in prompt-tuning-v2/checkpoint-456/tokenizer_config.json\n",
      "Special tokens file saved in prompt-tuning-v2/checkpoint-456/special_tokens_map.json\n",
      "The following columns in the evaluation set  don't have a corresponding argument in `BertPromptForMultipleChoice.forward` and have been ignored: is_2choice, src, word, instance, zh_dot_type, dot_type_2, eng word, zh_dot_gloss, zh_type_class, type_class, zh_dot_type_2, is_one_ans, pos, __index_level_0__, dot_type_1.\n",
      "***** Running Evaluation *****\n",
      "  Num examples = 114\n",
      "  Batch size = 6\n",
      "Saving model checkpoint to prompt-tuning-v2/checkpoint-532\n",
      "Configuration saved in prompt-tuning-v2/checkpoint-532/config.json\n",
      "Model weights saved in prompt-tuning-v2/checkpoint-532/pytorch_model.bin\n",
      "tokenizer config file saved in prompt-tuning-v2/checkpoint-532/tokenizer_config.json\n",
      "Special tokens file saved in prompt-tuning-v2/checkpoint-532/special_tokens_map.json\n",
      "The following columns in the evaluation set  don't have a corresponding argument in `BertPromptForMultipleChoice.forward` and have been ignored: is_2choice, src, word, instance, zh_dot_type, dot_type_2, eng word, zh_dot_gloss, zh_type_class, type_class, zh_dot_type_2, is_one_ans, pos, __index_level_0__, dot_type_1.\n",
      "***** Running Evaluation *****\n",
      "  Num examples = 114\n",
      "  Batch size = 6\n",
      "Saving model checkpoint to prompt-tuning-v2/checkpoint-608\n",
      "Configuration saved in prompt-tuning-v2/checkpoint-608/config.json\n",
      "Model weights saved in prompt-tuning-v2/checkpoint-608/pytorch_model.bin\n",
      "tokenizer config file saved in prompt-tuning-v2/checkpoint-608/tokenizer_config.json\n",
      "Special tokens file saved in prompt-tuning-v2/checkpoint-608/special_tokens_map.json\n",
      "The following columns in the evaluation set  don't have a corresponding argument in `BertPromptForMultipleChoice.forward` and have been ignored: is_2choice, src, word, instance, zh_dot_type, dot_type_2, eng word, zh_dot_gloss, zh_type_class, type_class, zh_dot_type_2, is_one_ans, pos, __index_level_0__, dot_type_1.\n",
      "***** Running Evaluation *****\n",
      "  Num examples = 114\n",
      "  Batch size = 6\n",
      "Saving model checkpoint to prompt-tuning-v2/checkpoint-684\n",
      "Configuration saved in prompt-tuning-v2/checkpoint-684/config.json\n",
      "Model weights saved in prompt-tuning-v2/checkpoint-684/pytorch_model.bin\n",
      "tokenizer config file saved in prompt-tuning-v2/checkpoint-684/tokenizer_config.json\n",
      "Special tokens file saved in prompt-tuning-v2/checkpoint-684/special_tokens_map.json\n",
      "The following columns in the evaluation set  don't have a corresponding argument in `BertPromptForMultipleChoice.forward` and have been ignored: is_2choice, src, word, instance, zh_dot_type, dot_type_2, eng word, zh_dot_gloss, zh_type_class, type_class, zh_dot_type_2, is_one_ans, pos, __index_level_0__, dot_type_1.\n",
      "***** Running Evaluation *****\n",
      "  Num examples = 114\n",
      "  Batch size = 6\n",
      "Saving model checkpoint to prompt-tuning-v2/checkpoint-760\n",
      "Configuration saved in prompt-tuning-v2/checkpoint-760/config.json\n",
      "Model weights saved in prompt-tuning-v2/checkpoint-760/pytorch_model.bin\n",
      "tokenizer config file saved in prompt-tuning-v2/checkpoint-760/tokenizer_config.json\n",
      "Special tokens file saved in prompt-tuning-v2/checkpoint-760/special_tokens_map.json\n",
      "The following columns in the evaluation set  don't have a corresponding argument in `BertPromptForMultipleChoice.forward` and have been ignored: is_2choice, src, word, instance, zh_dot_type, dot_type_2, eng word, zh_dot_gloss, zh_type_class, type_class, zh_dot_type_2, is_one_ans, pos, __index_level_0__, dot_type_1.\n",
      "***** Running Evaluation *****\n",
      "  Num examples = 114\n",
      "  Batch size = 6\n",
      "Saving model checkpoint to prompt-tuning-v2/checkpoint-836\n",
      "Configuration saved in prompt-tuning-v2/checkpoint-836/config.json\n",
      "Model weights saved in prompt-tuning-v2/checkpoint-836/pytorch_model.bin\n",
      "tokenizer config file saved in prompt-tuning-v2/checkpoint-836/tokenizer_config.json\n",
      "Special tokens file saved in prompt-tuning-v2/checkpoint-836/special_tokens_map.json\n",
      "The following columns in the evaluation set  don't have a corresponding argument in `BertPromptForMultipleChoice.forward` and have been ignored: is_2choice, src, word, instance, zh_dot_type, dot_type_2, eng word, zh_dot_gloss, zh_type_class, type_class, zh_dot_type_2, is_one_ans, pos, __index_level_0__, dot_type_1.\n",
      "***** Running Evaluation *****\n",
      "  Num examples = 114\n",
      "  Batch size = 6\n",
      "Saving model checkpoint to prompt-tuning-v2/checkpoint-912\n",
      "Configuration saved in prompt-tuning-v2/checkpoint-912/config.json\n",
      "Model weights saved in prompt-tuning-v2/checkpoint-912/pytorch_model.bin\n",
      "tokenizer config file saved in prompt-tuning-v2/checkpoint-912/tokenizer_config.json\n",
      "Special tokens file saved in prompt-tuning-v2/checkpoint-912/special_tokens_map.json\n",
      "The following columns in the evaluation set  don't have a corresponding argument in `BertPromptForMultipleChoice.forward` and have been ignored: is_2choice, src, word, instance, zh_dot_type, dot_type_2, eng word, zh_dot_gloss, zh_type_class, type_class, zh_dot_type_2, is_one_ans, pos, __index_level_0__, dot_type_1.\n",
      "***** Running Evaluation *****\n",
      "  Num examples = 114\n",
      "  Batch size = 6\n",
      "Saving model checkpoint to prompt-tuning-v2/checkpoint-988\n",
      "Configuration saved in prompt-tuning-v2/checkpoint-988/config.json\n",
      "Model weights saved in prompt-tuning-v2/checkpoint-988/pytorch_model.bin\n",
      "tokenizer config file saved in prompt-tuning-v2/checkpoint-988/tokenizer_config.json\n",
      "Special tokens file saved in prompt-tuning-v2/checkpoint-988/special_tokens_map.json\n",
      "The following columns in the evaluation set  don't have a corresponding argument in `BertPromptForMultipleChoice.forward` and have been ignored: is_2choice, src, word, instance, zh_dot_type, dot_type_2, eng word, zh_dot_gloss, zh_type_class, type_class, zh_dot_type_2, is_one_ans, pos, __index_level_0__, dot_type_1.\n",
      "***** Running Evaluation *****\n",
      "  Num examples = 114\n",
      "  Batch size = 6\n",
      "Saving model checkpoint to prompt-tuning-v2/checkpoint-1064\n",
      "Configuration saved in prompt-tuning-v2/checkpoint-1064/config.json\n",
      "Model weights saved in prompt-tuning-v2/checkpoint-1064/pytorch_model.bin\n",
      "tokenizer config file saved in prompt-tuning-v2/checkpoint-1064/tokenizer_config.json\n",
      "Special tokens file saved in prompt-tuning-v2/checkpoint-1064/special_tokens_map.json\n",
      "The following columns in the evaluation set  don't have a corresponding argument in `BertPromptForMultipleChoice.forward` and have been ignored: is_2choice, src, word, instance, zh_dot_type, dot_type_2, eng word, zh_dot_gloss, zh_type_class, type_class, zh_dot_type_2, is_one_ans, pos, __index_level_0__, dot_type_1.\n",
      "***** Running Evaluation *****\n",
      "  Num examples = 114\n",
      "  Batch size = 6\n",
      "Saving model checkpoint to prompt-tuning-v2/checkpoint-1140\n",
      "Configuration saved in prompt-tuning-v2/checkpoint-1140/config.json\n",
      "Model weights saved in prompt-tuning-v2/checkpoint-1140/pytorch_model.bin\n",
      "tokenizer config file saved in prompt-tuning-v2/checkpoint-1140/tokenizer_config.json\n",
      "Special tokens file saved in prompt-tuning-v2/checkpoint-1140/special_tokens_map.json\n",
      "The following columns in the evaluation set  don't have a corresponding argument in `BertPromptForMultipleChoice.forward` and have been ignored: is_2choice, src, word, instance, zh_dot_type, dot_type_2, eng word, zh_dot_gloss, zh_type_class, type_class, zh_dot_type_2, is_one_ans, pos, __index_level_0__, dot_type_1.\n",
      "***** Running Evaluation *****\n",
      "  Num examples = 114\n",
      "  Batch size = 6\n",
      "Saving model checkpoint to prompt-tuning-v2/checkpoint-1216\n",
      "Configuration saved in prompt-tuning-v2/checkpoint-1216/config.json\n",
      "Model weights saved in prompt-tuning-v2/checkpoint-1216/pytorch_model.bin\n",
      "tokenizer config file saved in prompt-tuning-v2/checkpoint-1216/tokenizer_config.json\n",
      "Special tokens file saved in prompt-tuning-v2/checkpoint-1216/special_tokens_map.json\n",
      "The following columns in the evaluation set  don't have a corresponding argument in `BertPromptForMultipleChoice.forward` and have been ignored: is_2choice, src, word, instance, zh_dot_type, dot_type_2, eng word, zh_dot_gloss, zh_type_class, type_class, zh_dot_type_2, is_one_ans, pos, __index_level_0__, dot_type_1.\n",
      "***** Running Evaluation *****\n",
      "  Num examples = 114\n",
      "  Batch size = 6\n",
      "Saving model checkpoint to prompt-tuning-v2/checkpoint-1292\n",
      "Configuration saved in prompt-tuning-v2/checkpoint-1292/config.json\n",
      "Model weights saved in prompt-tuning-v2/checkpoint-1292/pytorch_model.bin\n",
      "tokenizer config file saved in prompt-tuning-v2/checkpoint-1292/tokenizer_config.json\n",
      "Special tokens file saved in prompt-tuning-v2/checkpoint-1292/special_tokens_map.json\n",
      "The following columns in the evaluation set  don't have a corresponding argument in `BertPromptForMultipleChoice.forward` and have been ignored: is_2choice, src, word, instance, zh_dot_type, dot_type_2, eng word, zh_dot_gloss, zh_type_class, type_class, zh_dot_type_2, is_one_ans, pos, __index_level_0__, dot_type_1.\n",
      "***** Running Evaluation *****\n",
      "  Num examples = 114\n",
      "  Batch size = 6\n",
      "Saving model checkpoint to prompt-tuning-v2/checkpoint-1368\n",
      "Configuration saved in prompt-tuning-v2/checkpoint-1368/config.json\n",
      "Model weights saved in prompt-tuning-v2/checkpoint-1368/pytorch_model.bin\n",
      "tokenizer config file saved in prompt-tuning-v2/checkpoint-1368/tokenizer_config.json\n",
      "Special tokens file saved in prompt-tuning-v2/checkpoint-1368/special_tokens_map.json\n",
      "The following columns in the evaluation set  don't have a corresponding argument in `BertPromptForMultipleChoice.forward` and have been ignored: is_2choice, src, word, instance, zh_dot_type, dot_type_2, eng word, zh_dot_gloss, zh_type_class, type_class, zh_dot_type_2, is_one_ans, pos, __index_level_0__, dot_type_1.\n",
      "***** Running Evaluation *****\n",
      "  Num examples = 114\n",
      "  Batch size = 6\n",
      "Saving model checkpoint to prompt-tuning-v2/checkpoint-1444\n",
      "Configuration saved in prompt-tuning-v2/checkpoint-1444/config.json\n",
      "Model weights saved in prompt-tuning-v2/checkpoint-1444/pytorch_model.bin\n",
      "tokenizer config file saved in prompt-tuning-v2/checkpoint-1444/tokenizer_config.json\n",
      "Special tokens file saved in prompt-tuning-v2/checkpoint-1444/special_tokens_map.json\n",
      "The following columns in the evaluation set  don't have a corresponding argument in `BertPromptForMultipleChoice.forward` and have been ignored: is_2choice, src, word, instance, zh_dot_type, dot_type_2, eng word, zh_dot_gloss, zh_type_class, type_class, zh_dot_type_2, is_one_ans, pos, __index_level_0__, dot_type_1.\n",
      "***** Running Evaluation *****\n",
      "  Num examples = 114\n",
      "  Batch size = 6\n",
      "Saving model checkpoint to prompt-tuning-v2/checkpoint-1520\n",
      "Configuration saved in prompt-tuning-v2/checkpoint-1520/config.json\n",
      "Model weights saved in prompt-tuning-v2/checkpoint-1520/pytorch_model.bin\n",
      "tokenizer config file saved in prompt-tuning-v2/checkpoint-1520/tokenizer_config.json\n",
      "Special tokens file saved in prompt-tuning-v2/checkpoint-1520/special_tokens_map.json\n",
      "\n",
      "\n",
      "Training completed. Do not forget to share your model on huggingface.co/models =)\n",
      "\n",
      "\n",
      "Loading best model from prompt-tuning-v2/checkpoint-1368 (score: 0.719298243522644).\n"
     ]
    },
    {
     "data": {
      "text/plain": [
       "TrainOutput(global_step=1520, training_loss=0.5472685211583188, metrics={'train_runtime': 47.4979, 'train_samples_per_second': 191.587, 'train_steps_per_second': 32.001, 'total_flos': 615881950804344.0, 'train_loss': 0.5472685211583188, 'epoch': 20.0})"
      ]
     },
     "execution_count": 38,
     "metadata": {},
     "output_type": "execute_result"
    }
   ],
   "source": [
    "# bert freeze version \n",
    "trainer.train()"
   ]
  },
  {
   "cell_type": "code",
   "execution_count": 39,
   "id": "9e4a2018-96b2-43a0-aeb2-27129024cec1",
   "metadata": {},
   "outputs": [
    {
     "name": "stderr",
     "output_type": "stream",
     "text": [
      "The following columns in the evaluation set  don't have a corresponding argument in `BertPromptForMultipleChoice.forward` and have been ignored: is_2choice, src, word, instance, zh_dot_type, dot_type_2, eng word, zh_dot_gloss, zh_type_class, type_class, zh_dot_type_2, is_one_ans, pos, __index_level_0__, dot_type_1.\n",
      "***** Running Evaluation *****\n",
      "  Num examples = 114\n",
      "  Batch size = 6\n"
     ]
    },
    {
     "data": {
      "text/html": [
       "\n",
       "    <div>\n",
       "      \n",
       "      <progress value='19' max='19' style='width:300px; height:20px; vertical-align: middle;'></progress>\n",
       "      [19/19 00:00]\n",
       "    </div>\n",
       "    "
      ],
      "text/plain": [
       "<IPython.core.display.HTML object>"
      ]
     },
     "metadata": {},
     "output_type": "display_data"
    },
    {
     "data": {
      "text/plain": [
       "{'eval_loss': 0.789947509765625,\n",
       " 'eval_accuracy': 0.719298243522644,\n",
       " 'eval_runtime': 0.2111,\n",
       " 'eval_samples_per_second': 540.073,\n",
       " 'eval_steps_per_second': 90.012,\n",
       " 'epoch': 20.0}"
      ]
     },
     "execution_count": 39,
     "metadata": {},
     "output_type": "execute_result"
    }
   ],
   "source": [
    "trainer.evaluate(encoded_dataset[\"test\"])"
   ]
  },
  {
   "cell_type": "code",
   "execution_count": 40,
   "id": "afe8e38f-d0ea-4d3f-8d68-0a2ff8b24b4f",
   "metadata": {},
   "outputs": [
    {
     "name": "stderr",
     "output_type": "stream",
     "text": [
      "Saving model checkpoint to ../data/model/pt-nt12-apricot\n",
      "Configuration saved in ../data/model/pt-nt12-apricot/config.json\n",
      "Model weights saved in ../data/model/pt-nt12-apricot/pytorch_model.bin\n",
      "tokenizer config file saved in ../data/model/pt-nt12-apricot/tokenizer_config.json\n",
      "Special tokens file saved in ../data/model/pt-nt12-apricot/special_tokens_map.json\n"
     ]
    }
   ],
   "source": [
    "trainer.save_model(\"../data/models/pt-nt12-apricot\")"
   ]
  },
  {
   "cell_type": "code",
   "execution_count": 41,
   "id": "4283b769-0a4e-47c5-b3bc-30ce3ac2ac7c",
   "metadata": {},
   "outputs": [],
   "source": [
    "!mv ../etc/prompt-tuning-v2/Mar12-093217-912/ ../data/models"
   ]
  },
  {
   "cell_type": "code",
   "execution_count": null,
   "id": "397c08f2-7d4c-4613-85d4-95bded3be9ee",
   "metadata": {},
   "outputs": [],
   "source": []
  }
 ],
 "metadata": {
  "kernelspec": {
   "display_name": "Python 3 (ipykernel)",
   "language": "python",
   "name": "python3"
  },
  "language_info": {
   "codemirror_mode": {
    "name": "ipython",
    "version": 3
   },
   "file_extension": ".py",
   "mimetype": "text/x-python",
   "name": "python",
   "nbconvert_exporter": "python",
   "pygments_lexer": "ipython3",
   "version": "3.9.5"
  }
 },
 "nbformat": 4,
 "nbformat_minor": 5
}
